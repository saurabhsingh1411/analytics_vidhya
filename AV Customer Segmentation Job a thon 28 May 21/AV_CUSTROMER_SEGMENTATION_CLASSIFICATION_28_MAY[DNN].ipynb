{
  "nbformat": 4,
  "nbformat_minor": 0,
  "metadata": {
    "colab": {
      "name": "AV CUSTROMER SEGMENTATION CLASSIFICATION 28 MAY[DNN].ipynb",
      "provenance": [],
      "authorship_tag": "ABX9TyNwbFAaLgbsRGiMpoKZuP4u",
      "include_colab_link": true
    },
    "kernelspec": {
      "name": "python3",
      "display_name": "Python 3"
    },
    "language_info": {
      "name": "python"
    }
  },
  "cells": [
    {
      "cell_type": "markdown",
      "metadata": {
        "id": "view-in-github",
        "colab_type": "text"
      },
      "source": [
        "<a href=\"https://colab.research.google.com/github/saurabhsingh1411/analytics_vidhya/blob/main/AV%20Customer%20Segmentation%20Job%20a%20thon%2028%20May%2021/AV_CUSTROMER_SEGMENTATION_CLASSIFICATION_28_MAY%5BDNN%5D.ipynb\" target=\"_parent\"><img src=\"https://colab.research.google.com/assets/colab-badge.svg\" alt=\"Open In Colab\"/></a>"
      ]
    },
    {
      "cell_type": "code",
      "metadata": {
        "id": "CyhbAo8VyJvZ"
      },
      "source": [
        "import pandas as pd\n",
        "import numpy as np\n",
        "import matplotlib.pyplot as plt\n",
        "from sklearn.preprocessing import LabelEncoder\n",
        "from sklearn.preprocessing import StandardScaler\n",
        "from sklearn.model_selection import train_test_split\n",
        "from sklearn.metrics import classification_report"
      ],
      "execution_count": 8,
      "outputs": []
    },
    {
      "cell_type": "code",
      "metadata": {
        "id": "k2m43TG71adp"
      },
      "source": [
        "train=pd.read_csv('train.csv')\n",
        "test=pd.read_csv('test.csv')"
      ],
      "execution_count": 9,
      "outputs": []
    },
    {
      "cell_type": "code",
      "metadata": {
        "colab": {
          "base_uri": "https://localhost:8080/",
          "height": 224
        },
        "id": "1NnOkpAnz0RK",
        "outputId": "c845f7ed-21e5-4f91-f927-fa6c801338d9"
      },
      "source": [
        "train.head()"
      ],
      "execution_count": 10,
      "outputs": [
        {
          "output_type": "execute_result",
          "data": {
            "text/html": [
              "<div>\n",
              "<style scoped>\n",
              "    .dataframe tbody tr th:only-of-type {\n",
              "        vertical-align: middle;\n",
              "    }\n",
              "\n",
              "    .dataframe tbody tr th {\n",
              "        vertical-align: top;\n",
              "    }\n",
              "\n",
              "    .dataframe thead th {\n",
              "        text-align: right;\n",
              "    }\n",
              "</style>\n",
              "<table border=\"1\" class=\"dataframe\">\n",
              "  <thead>\n",
              "    <tr style=\"text-align: right;\">\n",
              "      <th></th>\n",
              "      <th>ID</th>\n",
              "      <th>Gender</th>\n",
              "      <th>Age</th>\n",
              "      <th>Region_Code</th>\n",
              "      <th>Occupation</th>\n",
              "      <th>Channel_Code</th>\n",
              "      <th>Vintage</th>\n",
              "      <th>Credit_Product</th>\n",
              "      <th>Avg_Account_Balance</th>\n",
              "      <th>Is_Active</th>\n",
              "      <th>Is_Lead</th>\n",
              "    </tr>\n",
              "  </thead>\n",
              "  <tbody>\n",
              "    <tr>\n",
              "      <th>0</th>\n",
              "      <td>NNVBBKZB</td>\n",
              "      <td>Female</td>\n",
              "      <td>73</td>\n",
              "      <td>RG268</td>\n",
              "      <td>Other</td>\n",
              "      <td>X3</td>\n",
              "      <td>43</td>\n",
              "      <td>No</td>\n",
              "      <td>1045696</td>\n",
              "      <td>No</td>\n",
              "      <td>0</td>\n",
              "    </tr>\n",
              "    <tr>\n",
              "      <th>1</th>\n",
              "      <td>IDD62UNG</td>\n",
              "      <td>Female</td>\n",
              "      <td>30</td>\n",
              "      <td>RG277</td>\n",
              "      <td>Salaried</td>\n",
              "      <td>X1</td>\n",
              "      <td>32</td>\n",
              "      <td>No</td>\n",
              "      <td>581988</td>\n",
              "      <td>No</td>\n",
              "      <td>0</td>\n",
              "    </tr>\n",
              "    <tr>\n",
              "      <th>2</th>\n",
              "      <td>HD3DSEMC</td>\n",
              "      <td>Female</td>\n",
              "      <td>56</td>\n",
              "      <td>RG268</td>\n",
              "      <td>Self_Employed</td>\n",
              "      <td>X3</td>\n",
              "      <td>26</td>\n",
              "      <td>No</td>\n",
              "      <td>1484315</td>\n",
              "      <td>Yes</td>\n",
              "      <td>0</td>\n",
              "    </tr>\n",
              "    <tr>\n",
              "      <th>3</th>\n",
              "      <td>BF3NC7KV</td>\n",
              "      <td>Male</td>\n",
              "      <td>34</td>\n",
              "      <td>RG270</td>\n",
              "      <td>Salaried</td>\n",
              "      <td>X1</td>\n",
              "      <td>19</td>\n",
              "      <td>No</td>\n",
              "      <td>470454</td>\n",
              "      <td>No</td>\n",
              "      <td>0</td>\n",
              "    </tr>\n",
              "    <tr>\n",
              "      <th>4</th>\n",
              "      <td>TEASRWXV</td>\n",
              "      <td>Female</td>\n",
              "      <td>30</td>\n",
              "      <td>RG282</td>\n",
              "      <td>Salaried</td>\n",
              "      <td>X1</td>\n",
              "      <td>33</td>\n",
              "      <td>No</td>\n",
              "      <td>886787</td>\n",
              "      <td>No</td>\n",
              "      <td>0</td>\n",
              "    </tr>\n",
              "  </tbody>\n",
              "</table>\n",
              "</div>"
            ],
            "text/plain": [
              "         ID  Gender  Age  ... Avg_Account_Balance Is_Active Is_Lead\n",
              "0  NNVBBKZB  Female   73  ...             1045696        No       0\n",
              "1  IDD62UNG  Female   30  ...              581988        No       0\n",
              "2  HD3DSEMC  Female   56  ...             1484315       Yes       0\n",
              "3  BF3NC7KV    Male   34  ...              470454        No       0\n",
              "4  TEASRWXV  Female   30  ...              886787        No       0\n",
              "\n",
              "[5 rows x 11 columns]"
            ]
          },
          "metadata": {
            "tags": []
          },
          "execution_count": 10
        }
      ]
    },
    {
      "cell_type": "code",
      "metadata": {
        "colab": {
          "base_uri": "https://localhost:8080/"
        },
        "id": "E62fhZ1P0hDr",
        "outputId": "b8f9b99c-ff3a-4f26-9839-04342076fe60"
      },
      "source": [
        "print(train.shape)"
      ],
      "execution_count": 11,
      "outputs": [
        {
          "output_type": "stream",
          "text": [
            "(245725, 11)\n"
          ],
          "name": "stdout"
        }
      ]
    },
    {
      "cell_type": "code",
      "metadata": {
        "colab": {
          "base_uri": "https://localhost:8080/"
        },
        "id": "xPdjH5YT0hNB",
        "outputId": "dd912882-1bad-4970-facf-83c5e2e0a82f"
      },
      "source": [
        "train.isnull().sum()"
      ],
      "execution_count": 12,
      "outputs": [
        {
          "output_type": "execute_result",
          "data": {
            "text/plain": [
              "ID                         0\n",
              "Gender                     0\n",
              "Age                        0\n",
              "Region_Code                0\n",
              "Occupation                 0\n",
              "Channel_Code               0\n",
              "Vintage                    0\n",
              "Credit_Product         29325\n",
              "Avg_Account_Balance        0\n",
              "Is_Active                  0\n",
              "Is_Lead                    0\n",
              "dtype: int64"
            ]
          },
          "metadata": {
            "tags": []
          },
          "execution_count": 12
        }
      ]
    },
    {
      "cell_type": "code",
      "metadata": {
        "colab": {
          "base_uri": "https://localhost:8080/",
          "height": 224
        },
        "id": "HY2xrqbA0hUg",
        "outputId": "abb03dcc-1f2b-439a-b044-8575023aff08"
      },
      "source": [
        "train['Credit_Product']=train['Credit_Product'].map({'No':0,'Yes':1})\n",
        "\n",
        "train.head()"
      ],
      "execution_count": 13,
      "outputs": [
        {
          "output_type": "execute_result",
          "data": {
            "text/html": [
              "<div>\n",
              "<style scoped>\n",
              "    .dataframe tbody tr th:only-of-type {\n",
              "        vertical-align: middle;\n",
              "    }\n",
              "\n",
              "    .dataframe tbody tr th {\n",
              "        vertical-align: top;\n",
              "    }\n",
              "\n",
              "    .dataframe thead th {\n",
              "        text-align: right;\n",
              "    }\n",
              "</style>\n",
              "<table border=\"1\" class=\"dataframe\">\n",
              "  <thead>\n",
              "    <tr style=\"text-align: right;\">\n",
              "      <th></th>\n",
              "      <th>ID</th>\n",
              "      <th>Gender</th>\n",
              "      <th>Age</th>\n",
              "      <th>Region_Code</th>\n",
              "      <th>Occupation</th>\n",
              "      <th>Channel_Code</th>\n",
              "      <th>Vintage</th>\n",
              "      <th>Credit_Product</th>\n",
              "      <th>Avg_Account_Balance</th>\n",
              "      <th>Is_Active</th>\n",
              "      <th>Is_Lead</th>\n",
              "    </tr>\n",
              "  </thead>\n",
              "  <tbody>\n",
              "    <tr>\n",
              "      <th>0</th>\n",
              "      <td>NNVBBKZB</td>\n",
              "      <td>Female</td>\n",
              "      <td>73</td>\n",
              "      <td>RG268</td>\n",
              "      <td>Other</td>\n",
              "      <td>X3</td>\n",
              "      <td>43</td>\n",
              "      <td>0.0</td>\n",
              "      <td>1045696</td>\n",
              "      <td>No</td>\n",
              "      <td>0</td>\n",
              "    </tr>\n",
              "    <tr>\n",
              "      <th>1</th>\n",
              "      <td>IDD62UNG</td>\n",
              "      <td>Female</td>\n",
              "      <td>30</td>\n",
              "      <td>RG277</td>\n",
              "      <td>Salaried</td>\n",
              "      <td>X1</td>\n",
              "      <td>32</td>\n",
              "      <td>0.0</td>\n",
              "      <td>581988</td>\n",
              "      <td>No</td>\n",
              "      <td>0</td>\n",
              "    </tr>\n",
              "    <tr>\n",
              "      <th>2</th>\n",
              "      <td>HD3DSEMC</td>\n",
              "      <td>Female</td>\n",
              "      <td>56</td>\n",
              "      <td>RG268</td>\n",
              "      <td>Self_Employed</td>\n",
              "      <td>X3</td>\n",
              "      <td>26</td>\n",
              "      <td>0.0</td>\n",
              "      <td>1484315</td>\n",
              "      <td>Yes</td>\n",
              "      <td>0</td>\n",
              "    </tr>\n",
              "    <tr>\n",
              "      <th>3</th>\n",
              "      <td>BF3NC7KV</td>\n",
              "      <td>Male</td>\n",
              "      <td>34</td>\n",
              "      <td>RG270</td>\n",
              "      <td>Salaried</td>\n",
              "      <td>X1</td>\n",
              "      <td>19</td>\n",
              "      <td>0.0</td>\n",
              "      <td>470454</td>\n",
              "      <td>No</td>\n",
              "      <td>0</td>\n",
              "    </tr>\n",
              "    <tr>\n",
              "      <th>4</th>\n",
              "      <td>TEASRWXV</td>\n",
              "      <td>Female</td>\n",
              "      <td>30</td>\n",
              "      <td>RG282</td>\n",
              "      <td>Salaried</td>\n",
              "      <td>X1</td>\n",
              "      <td>33</td>\n",
              "      <td>0.0</td>\n",
              "      <td>886787</td>\n",
              "      <td>No</td>\n",
              "      <td>0</td>\n",
              "    </tr>\n",
              "  </tbody>\n",
              "</table>\n",
              "</div>"
            ],
            "text/plain": [
              "         ID  Gender  Age  ... Avg_Account_Balance Is_Active Is_Lead\n",
              "0  NNVBBKZB  Female   73  ...             1045696        No       0\n",
              "1  IDD62UNG  Female   30  ...              581988        No       0\n",
              "2  HD3DSEMC  Female   56  ...             1484315       Yes       0\n",
              "3  BF3NC7KV    Male   34  ...              470454        No       0\n",
              "4  TEASRWXV  Female   30  ...              886787        No       0\n",
              "\n",
              "[5 rows x 11 columns]"
            ]
          },
          "metadata": {
            "tags": []
          },
          "execution_count": 13
        }
      ]
    },
    {
      "cell_type": "code",
      "metadata": {
        "colab": {
          "base_uri": "https://localhost:8080/"
        },
        "id": "_FzBAyy-0hXR",
        "outputId": "b62397cb-6e4d-40f0-c1cc-6227eb4c34f5"
      },
      "source": [
        "train['Credit_Product']=train['Credit_Product'].fillna(0.5)\n",
        "\n",
        "train['Credit_Product'].value_counts()"
      ],
      "execution_count": 14,
      "outputs": [
        {
          "output_type": "execute_result",
          "data": {
            "text/plain": [
              "0.0    144357\n",
              "1.0     72043\n",
              "0.5     29325\n",
              "Name: Credit_Product, dtype: int64"
            ]
          },
          "metadata": {
            "tags": []
          },
          "execution_count": 14
        }
      ]
    },
    {
      "cell_type": "code",
      "metadata": {
        "colab": {
          "base_uri": "https://localhost:8080/"
        },
        "id": "bBE8MuNJ18e2",
        "outputId": "f5bc8cc8-9a8a-4698-fb14-7431c0898ea8"
      },
      "source": [
        "train.isnull().sum()"
      ],
      "execution_count": 15,
      "outputs": [
        {
          "output_type": "execute_result",
          "data": {
            "text/plain": [
              "ID                     0\n",
              "Gender                 0\n",
              "Age                    0\n",
              "Region_Code            0\n",
              "Occupation             0\n",
              "Channel_Code           0\n",
              "Vintage                0\n",
              "Credit_Product         0\n",
              "Avg_Account_Balance    0\n",
              "Is_Active              0\n",
              "Is_Lead                0\n",
              "dtype: int64"
            ]
          },
          "metadata": {
            "tags": []
          },
          "execution_count": 15
        }
      ]
    },
    {
      "cell_type": "code",
      "metadata": {
        "colab": {
          "base_uri": "https://localhost:8080/"
        },
        "id": "Ymg9tBUl18n0",
        "outputId": "e35e039d-252d-480f-8365-17e07191304c"
      },
      "source": [
        "train['Channel_Code'].value_counts()"
      ],
      "execution_count": 16,
      "outputs": [
        {
          "output_type": "execute_result",
          "data": {
            "text/plain": [
              "X1    103718\n",
              "X3     68712\n",
              "X2     67726\n",
              "X4      5569\n",
              "Name: Channel_Code, dtype: int64"
            ]
          },
          "metadata": {
            "tags": []
          },
          "execution_count": 16
        }
      ]
    },
    {
      "cell_type": "markdown",
      "metadata": {
        "id": "WruWkacz2ODs"
      },
      "source": [
        "DATA VISULIZATION\n"
      ]
    },
    {
      "cell_type": "code",
      "metadata": {
        "id": "leG-zvic18so"
      },
      "source": [
        "import seaborn as sns\n"
      ],
      "execution_count": 17,
      "outputs": []
    },
    {
      "cell_type": "code",
      "metadata": {
        "id": "HPOqfd4A18vV"
      },
      "source": [
        "cor_matrix=train.corr()\n",
        "\n",
        "#sns.heatmap(corr)"
      ],
      "execution_count": 31,
      "outputs": []
    },
    {
      "cell_type": "code",
      "metadata": {
        "colab": {
          "base_uri": "https://localhost:8080/",
          "height": 224
        },
        "id": "RimEW1OC4ZFa",
        "outputId": "9ffc8f61-c9a3-4e6f-f6cd-3ccdd15a20b9"
      },
      "source": [
        "train.head()"
      ],
      "execution_count": 32,
      "outputs": [
        {
          "output_type": "execute_result",
          "data": {
            "text/html": [
              "<div>\n",
              "<style scoped>\n",
              "    .dataframe tbody tr th:only-of-type {\n",
              "        vertical-align: middle;\n",
              "    }\n",
              "\n",
              "    .dataframe tbody tr th {\n",
              "        vertical-align: top;\n",
              "    }\n",
              "\n",
              "    .dataframe thead th {\n",
              "        text-align: right;\n",
              "    }\n",
              "</style>\n",
              "<table border=\"1\" class=\"dataframe\">\n",
              "  <thead>\n",
              "    <tr style=\"text-align: right;\">\n",
              "      <th></th>\n",
              "      <th>ID</th>\n",
              "      <th>Gender</th>\n",
              "      <th>Age</th>\n",
              "      <th>Region_Code</th>\n",
              "      <th>Occupation</th>\n",
              "      <th>Channel_Code</th>\n",
              "      <th>Vintage</th>\n",
              "      <th>Credit_Product</th>\n",
              "      <th>Avg_Account_Balance</th>\n",
              "      <th>Is_Active</th>\n",
              "      <th>Is_Lead</th>\n",
              "    </tr>\n",
              "  </thead>\n",
              "  <tbody>\n",
              "    <tr>\n",
              "      <th>0</th>\n",
              "      <td>NNVBBKZB</td>\n",
              "      <td>Female</td>\n",
              "      <td>73</td>\n",
              "      <td>RG268</td>\n",
              "      <td>Other</td>\n",
              "      <td>X3</td>\n",
              "      <td>43</td>\n",
              "      <td>0.0</td>\n",
              "      <td>1045696</td>\n",
              "      <td>No</td>\n",
              "      <td>0</td>\n",
              "    </tr>\n",
              "    <tr>\n",
              "      <th>1</th>\n",
              "      <td>IDD62UNG</td>\n",
              "      <td>Female</td>\n",
              "      <td>30</td>\n",
              "      <td>RG277</td>\n",
              "      <td>Salaried</td>\n",
              "      <td>X1</td>\n",
              "      <td>32</td>\n",
              "      <td>0.0</td>\n",
              "      <td>581988</td>\n",
              "      <td>No</td>\n",
              "      <td>0</td>\n",
              "    </tr>\n",
              "    <tr>\n",
              "      <th>2</th>\n",
              "      <td>HD3DSEMC</td>\n",
              "      <td>Female</td>\n",
              "      <td>56</td>\n",
              "      <td>RG268</td>\n",
              "      <td>Self_Employed</td>\n",
              "      <td>X3</td>\n",
              "      <td>26</td>\n",
              "      <td>0.0</td>\n",
              "      <td>1484315</td>\n",
              "      <td>Yes</td>\n",
              "      <td>0</td>\n",
              "    </tr>\n",
              "    <tr>\n",
              "      <th>3</th>\n",
              "      <td>BF3NC7KV</td>\n",
              "      <td>Male</td>\n",
              "      <td>34</td>\n",
              "      <td>RG270</td>\n",
              "      <td>Salaried</td>\n",
              "      <td>X1</td>\n",
              "      <td>19</td>\n",
              "      <td>0.0</td>\n",
              "      <td>470454</td>\n",
              "      <td>No</td>\n",
              "      <td>0</td>\n",
              "    </tr>\n",
              "    <tr>\n",
              "      <th>4</th>\n",
              "      <td>TEASRWXV</td>\n",
              "      <td>Female</td>\n",
              "      <td>30</td>\n",
              "      <td>RG282</td>\n",
              "      <td>Salaried</td>\n",
              "      <td>X1</td>\n",
              "      <td>33</td>\n",
              "      <td>0.0</td>\n",
              "      <td>886787</td>\n",
              "      <td>No</td>\n",
              "      <td>0</td>\n",
              "    </tr>\n",
              "  </tbody>\n",
              "</table>\n",
              "</div>"
            ],
            "text/plain": [
              "         ID  Gender  Age  ... Avg_Account_Balance Is_Active Is_Lead\n",
              "0  NNVBBKZB  Female   73  ...             1045696        No       0\n",
              "1  IDD62UNG  Female   30  ...              581988        No       0\n",
              "2  HD3DSEMC  Female   56  ...             1484315       Yes       0\n",
              "3  BF3NC7KV    Male   34  ...              470454        No       0\n",
              "4  TEASRWXV  Female   30  ...              886787        No       0\n",
              "\n",
              "[5 rows x 11 columns]"
            ]
          },
          "metadata": {
            "tags": []
          },
          "execution_count": 32
        }
      ]
    },
    {
      "cell_type": "code",
      "metadata": {
        "id": "hmrkhzDc6296"
      },
      "source": [
        "le=LabelEncoder()\n",
        "train['Gender']=le.fit_transform(train['Gender'])\n",
        "train['Occupation']=le.fit_transform(train['Occupation'])\n",
        "train['Is_Active']=le.fit_transform(train['Is_Active'])\n",
        "train['Channel_Code']=le.fit_transform(train['Channel_Code'])"
      ],
      "execution_count": 35,
      "outputs": []
    },
    {
      "cell_type": "code",
      "metadata": {
        "colab": {
          "base_uri": "https://localhost:8080/",
          "height": 224
        },
        "id": "WgTzsFaF63HJ",
        "outputId": "4c61b85e-a3af-4689-fb53-6e82357e2903"
      },
      "source": [
        "train.head()"
      ],
      "execution_count": 36,
      "outputs": [
        {
          "output_type": "execute_result",
          "data": {
            "text/html": [
              "<div>\n",
              "<style scoped>\n",
              "    .dataframe tbody tr th:only-of-type {\n",
              "        vertical-align: middle;\n",
              "    }\n",
              "\n",
              "    .dataframe tbody tr th {\n",
              "        vertical-align: top;\n",
              "    }\n",
              "\n",
              "    .dataframe thead th {\n",
              "        text-align: right;\n",
              "    }\n",
              "</style>\n",
              "<table border=\"1\" class=\"dataframe\">\n",
              "  <thead>\n",
              "    <tr style=\"text-align: right;\">\n",
              "      <th></th>\n",
              "      <th>ID</th>\n",
              "      <th>Gender</th>\n",
              "      <th>Age</th>\n",
              "      <th>Region_Code</th>\n",
              "      <th>Occupation</th>\n",
              "      <th>Channel_Code</th>\n",
              "      <th>Vintage</th>\n",
              "      <th>Credit_Product</th>\n",
              "      <th>Avg_Account_Balance</th>\n",
              "      <th>Is_Active</th>\n",
              "      <th>Is_Lead</th>\n",
              "    </tr>\n",
              "  </thead>\n",
              "  <tbody>\n",
              "    <tr>\n",
              "      <th>0</th>\n",
              "      <td>NNVBBKZB</td>\n",
              "      <td>0</td>\n",
              "      <td>73</td>\n",
              "      <td>RG268</td>\n",
              "      <td>1</td>\n",
              "      <td>2</td>\n",
              "      <td>43</td>\n",
              "      <td>0.0</td>\n",
              "      <td>1045696</td>\n",
              "      <td>0</td>\n",
              "      <td>0</td>\n",
              "    </tr>\n",
              "    <tr>\n",
              "      <th>1</th>\n",
              "      <td>IDD62UNG</td>\n",
              "      <td>0</td>\n",
              "      <td>30</td>\n",
              "      <td>RG277</td>\n",
              "      <td>2</td>\n",
              "      <td>0</td>\n",
              "      <td>32</td>\n",
              "      <td>0.0</td>\n",
              "      <td>581988</td>\n",
              "      <td>0</td>\n",
              "      <td>0</td>\n",
              "    </tr>\n",
              "    <tr>\n",
              "      <th>2</th>\n",
              "      <td>HD3DSEMC</td>\n",
              "      <td>0</td>\n",
              "      <td>56</td>\n",
              "      <td>RG268</td>\n",
              "      <td>3</td>\n",
              "      <td>2</td>\n",
              "      <td>26</td>\n",
              "      <td>0.0</td>\n",
              "      <td>1484315</td>\n",
              "      <td>1</td>\n",
              "      <td>0</td>\n",
              "    </tr>\n",
              "    <tr>\n",
              "      <th>3</th>\n",
              "      <td>BF3NC7KV</td>\n",
              "      <td>1</td>\n",
              "      <td>34</td>\n",
              "      <td>RG270</td>\n",
              "      <td>2</td>\n",
              "      <td>0</td>\n",
              "      <td>19</td>\n",
              "      <td>0.0</td>\n",
              "      <td>470454</td>\n",
              "      <td>0</td>\n",
              "      <td>0</td>\n",
              "    </tr>\n",
              "    <tr>\n",
              "      <th>4</th>\n",
              "      <td>TEASRWXV</td>\n",
              "      <td>0</td>\n",
              "      <td>30</td>\n",
              "      <td>RG282</td>\n",
              "      <td>2</td>\n",
              "      <td>0</td>\n",
              "      <td>33</td>\n",
              "      <td>0.0</td>\n",
              "      <td>886787</td>\n",
              "      <td>0</td>\n",
              "      <td>0</td>\n",
              "    </tr>\n",
              "  </tbody>\n",
              "</table>\n",
              "</div>"
            ],
            "text/plain": [
              "         ID  Gender  Age  ... Avg_Account_Balance  Is_Active  Is_Lead\n",
              "0  NNVBBKZB       0   73  ...             1045696          0        0\n",
              "1  IDD62UNG       0   30  ...              581988          0        0\n",
              "2  HD3DSEMC       0   56  ...             1484315          1        0\n",
              "3  BF3NC7KV       1   34  ...              470454          0        0\n",
              "4  TEASRWXV       0   30  ...              886787          0        0\n",
              "\n",
              "[5 rows x 11 columns]"
            ]
          },
          "metadata": {
            "tags": []
          },
          "execution_count": 36
        }
      ]
    },
    {
      "cell_type": "code",
      "metadata": {
        "colab": {
          "base_uri": "https://localhost:8080/",
          "height": 204
        },
        "id": "5uw36cPy63Xp",
        "outputId": "9b3af9b9-281d-4855-adef-76750ea3d734"
      },
      "source": [
        "train=train.drop(labels=['ID','Region_Code'],axis=1)\n",
        "\n",
        "train.head()"
      ],
      "execution_count": 37,
      "outputs": [
        {
          "output_type": "execute_result",
          "data": {
            "text/html": [
              "<div>\n",
              "<style scoped>\n",
              "    .dataframe tbody tr th:only-of-type {\n",
              "        vertical-align: middle;\n",
              "    }\n",
              "\n",
              "    .dataframe tbody tr th {\n",
              "        vertical-align: top;\n",
              "    }\n",
              "\n",
              "    .dataframe thead th {\n",
              "        text-align: right;\n",
              "    }\n",
              "</style>\n",
              "<table border=\"1\" class=\"dataframe\">\n",
              "  <thead>\n",
              "    <tr style=\"text-align: right;\">\n",
              "      <th></th>\n",
              "      <th>Gender</th>\n",
              "      <th>Age</th>\n",
              "      <th>Occupation</th>\n",
              "      <th>Channel_Code</th>\n",
              "      <th>Vintage</th>\n",
              "      <th>Credit_Product</th>\n",
              "      <th>Avg_Account_Balance</th>\n",
              "      <th>Is_Active</th>\n",
              "      <th>Is_Lead</th>\n",
              "    </tr>\n",
              "  </thead>\n",
              "  <tbody>\n",
              "    <tr>\n",
              "      <th>0</th>\n",
              "      <td>0</td>\n",
              "      <td>73</td>\n",
              "      <td>1</td>\n",
              "      <td>2</td>\n",
              "      <td>43</td>\n",
              "      <td>0.0</td>\n",
              "      <td>1045696</td>\n",
              "      <td>0</td>\n",
              "      <td>0</td>\n",
              "    </tr>\n",
              "    <tr>\n",
              "      <th>1</th>\n",
              "      <td>0</td>\n",
              "      <td>30</td>\n",
              "      <td>2</td>\n",
              "      <td>0</td>\n",
              "      <td>32</td>\n",
              "      <td>0.0</td>\n",
              "      <td>581988</td>\n",
              "      <td>0</td>\n",
              "      <td>0</td>\n",
              "    </tr>\n",
              "    <tr>\n",
              "      <th>2</th>\n",
              "      <td>0</td>\n",
              "      <td>56</td>\n",
              "      <td>3</td>\n",
              "      <td>2</td>\n",
              "      <td>26</td>\n",
              "      <td>0.0</td>\n",
              "      <td>1484315</td>\n",
              "      <td>1</td>\n",
              "      <td>0</td>\n",
              "    </tr>\n",
              "    <tr>\n",
              "      <th>3</th>\n",
              "      <td>1</td>\n",
              "      <td>34</td>\n",
              "      <td>2</td>\n",
              "      <td>0</td>\n",
              "      <td>19</td>\n",
              "      <td>0.0</td>\n",
              "      <td>470454</td>\n",
              "      <td>0</td>\n",
              "      <td>0</td>\n",
              "    </tr>\n",
              "    <tr>\n",
              "      <th>4</th>\n",
              "      <td>0</td>\n",
              "      <td>30</td>\n",
              "      <td>2</td>\n",
              "      <td>0</td>\n",
              "      <td>33</td>\n",
              "      <td>0.0</td>\n",
              "      <td>886787</td>\n",
              "      <td>0</td>\n",
              "      <td>0</td>\n",
              "    </tr>\n",
              "  </tbody>\n",
              "</table>\n",
              "</div>"
            ],
            "text/plain": [
              "   Gender  Age  Occupation  ...  Avg_Account_Balance  Is_Active  Is_Lead\n",
              "0       0   73           1  ...              1045696          0        0\n",
              "1       0   30           2  ...               581988          0        0\n",
              "2       0   56           3  ...              1484315          1        0\n",
              "3       1   34           2  ...               470454          0        0\n",
              "4       0   30           2  ...               886787          0        0\n",
              "\n",
              "[5 rows x 9 columns]"
            ]
          },
          "metadata": {
            "tags": []
          },
          "execution_count": 37
        }
      ]
    },
    {
      "cell_type": "code",
      "metadata": {
        "id": "AH9JrSDo4eT0"
      },
      "source": [
        "cor_matrix=train.corr()"
      ],
      "execution_count": 38,
      "outputs": []
    },
    {
      "cell_type": "code",
      "metadata": {
        "colab": {
          "base_uri": "https://localhost:8080/",
          "height": 348
        },
        "id": "x5i4fC3C7JfY",
        "outputId": "39dc7f42-1637-4c71-927b-f3212d923913"
      },
      "source": [
        "cor_matrix"
      ],
      "execution_count": 39,
      "outputs": [
        {
          "output_type": "execute_result",
          "data": {
            "text/html": [
              "<div>\n",
              "<style scoped>\n",
              "    .dataframe tbody tr th:only-of-type {\n",
              "        vertical-align: middle;\n",
              "    }\n",
              "\n",
              "    .dataframe tbody tr th {\n",
              "        vertical-align: top;\n",
              "    }\n",
              "\n",
              "    .dataframe thead th {\n",
              "        text-align: right;\n",
              "    }\n",
              "</style>\n",
              "<table border=\"1\" class=\"dataframe\">\n",
              "  <thead>\n",
              "    <tr style=\"text-align: right;\">\n",
              "      <th></th>\n",
              "      <th>Gender</th>\n",
              "      <th>Age</th>\n",
              "      <th>Occupation</th>\n",
              "      <th>Channel_Code</th>\n",
              "      <th>Vintage</th>\n",
              "      <th>Credit_Product</th>\n",
              "      <th>Avg_Account_Balance</th>\n",
              "      <th>Is_Active</th>\n",
              "      <th>Is_Lead</th>\n",
              "    </tr>\n",
              "  </thead>\n",
              "  <tbody>\n",
              "    <tr>\n",
              "      <th>Gender</th>\n",
              "      <td>1.000000</td>\n",
              "      <td>0.152076</td>\n",
              "      <td>0.031536</td>\n",
              "      <td>0.150586</td>\n",
              "      <td>0.146380</td>\n",
              "      <td>0.064666</td>\n",
              "      <td>0.022477</td>\n",
              "      <td>0.064207</td>\n",
              "      <td>0.072068</td>\n",
              "    </tr>\n",
              "    <tr>\n",
              "      <th>Age</th>\n",
              "      <td>0.152076</td>\n",
              "      <td>1.000000</td>\n",
              "      <td>-0.127753</td>\n",
              "      <td>0.605543</td>\n",
              "      <td>0.631242</td>\n",
              "      <td>0.202597</td>\n",
              "      <td>0.145232</td>\n",
              "      <td>0.218770</td>\n",
              "      <td>0.230814</td>\n",
              "    </tr>\n",
              "    <tr>\n",
              "      <th>Occupation</th>\n",
              "      <td>0.031536</td>\n",
              "      <td>-0.127753</td>\n",
              "      <td>1.000000</td>\n",
              "      <td>0.123937</td>\n",
              "      <td>0.027156</td>\n",
              "      <td>0.017571</td>\n",
              "      <td>-0.038496</td>\n",
              "      <td>0.077208</td>\n",
              "      <td>0.012415</td>\n",
              "    </tr>\n",
              "    <tr>\n",
              "      <th>Channel_Code</th>\n",
              "      <td>0.150586</td>\n",
              "      <td>0.605543</td>\n",
              "      <td>0.123937</td>\n",
              "      <td>1.000000</td>\n",
              "      <td>0.537852</td>\n",
              "      <td>0.259124</td>\n",
              "      <td>0.099911</td>\n",
              "      <td>0.249655</td>\n",
              "      <td>0.261211</td>\n",
              "    </tr>\n",
              "    <tr>\n",
              "      <th>Vintage</th>\n",
              "      <td>0.146380</td>\n",
              "      <td>0.631242</td>\n",
              "      <td>0.027156</td>\n",
              "      <td>0.537852</td>\n",
              "      <td>1.000000</td>\n",
              "      <td>0.178813</td>\n",
              "      <td>0.167433</td>\n",
              "      <td>0.209356</td>\n",
              "      <td>0.279642</td>\n",
              "    </tr>\n",
              "    <tr>\n",
              "      <th>Credit_Product</th>\n",
              "      <td>0.064666</td>\n",
              "      <td>0.202597</td>\n",
              "      <td>0.017571</td>\n",
              "      <td>0.259124</td>\n",
              "      <td>0.178813</td>\n",
              "      <td>1.000000</td>\n",
              "      <td>0.062460</td>\n",
              "      <td>-0.089567</td>\n",
              "      <td>0.313722</td>\n",
              "    </tr>\n",
              "    <tr>\n",
              "      <th>Avg_Account_Balance</th>\n",
              "      <td>0.022477</td>\n",
              "      <td>0.145232</td>\n",
              "      <td>-0.038496</td>\n",
              "      <td>0.099911</td>\n",
              "      <td>0.167433</td>\n",
              "      <td>0.062460</td>\n",
              "      <td>1.000000</td>\n",
              "      <td>0.076637</td>\n",
              "      <td>0.053370</td>\n",
              "    </tr>\n",
              "    <tr>\n",
              "      <th>Is_Active</th>\n",
              "      <td>0.064207</td>\n",
              "      <td>0.218770</td>\n",
              "      <td>0.077208</td>\n",
              "      <td>0.249655</td>\n",
              "      <td>0.209356</td>\n",
              "      <td>-0.089567</td>\n",
              "      <td>0.076637</td>\n",
              "      <td>1.000000</td>\n",
              "      <td>0.085723</td>\n",
              "    </tr>\n",
              "    <tr>\n",
              "      <th>Is_Lead</th>\n",
              "      <td>0.072068</td>\n",
              "      <td>0.230814</td>\n",
              "      <td>0.012415</td>\n",
              "      <td>0.261211</td>\n",
              "      <td>0.279642</td>\n",
              "      <td>0.313722</td>\n",
              "      <td>0.053370</td>\n",
              "      <td>0.085723</td>\n",
              "      <td>1.000000</td>\n",
              "    </tr>\n",
              "  </tbody>\n",
              "</table>\n",
              "</div>"
            ],
            "text/plain": [
              "                       Gender       Age  ...  Is_Active   Is_Lead\n",
              "Gender               1.000000  0.152076  ...   0.064207  0.072068\n",
              "Age                  0.152076  1.000000  ...   0.218770  0.230814\n",
              "Occupation           0.031536 -0.127753  ...   0.077208  0.012415\n",
              "Channel_Code         0.150586  0.605543  ...   0.249655  0.261211\n",
              "Vintage              0.146380  0.631242  ...   0.209356  0.279642\n",
              "Credit_Product       0.064666  0.202597  ...  -0.089567  0.313722\n",
              "Avg_Account_Balance  0.022477  0.145232  ...   0.076637  0.053370\n",
              "Is_Active            0.064207  0.218770  ...   1.000000  0.085723\n",
              "Is_Lead              0.072068  0.230814  ...   0.085723  1.000000\n",
              "\n",
              "[9 rows x 9 columns]"
            ]
          },
          "metadata": {
            "tags": []
          },
          "execution_count": 39
        }
      ]
    },
    {
      "cell_type": "markdown",
      "metadata": {
        "id": "rjp4DR5f6sw6"
      },
      "source": [
        "Since There is no variable which are highly co related with hence there is no need to drop anything"
      ]
    },
    {
      "cell_type": "markdown",
      "metadata": {
        "id": "CZusRbkl7esH"
      },
      "source": [
        "Plotting Graph"
      ]
    },
    {
      "cell_type": "code",
      "metadata": {
        "colab": {
          "base_uri": "https://localhost:8080/",
          "height": 296
        },
        "id": "1R1e_VkB5tE_",
        "outputId": "e1850772-c707-4797-cb73-0d98d229cbd5"
      },
      "source": [
        "sns.barplot(x=train['Gender'],y=train['Is_Lead'])"
      ],
      "execution_count": 46,
      "outputs": [
        {
          "output_type": "execute_result",
          "data": {
            "text/plain": [
              "<matplotlib.axes._subplots.AxesSubplot at 0x7fc19a792150>"
            ]
          },
          "metadata": {
            "tags": []
          },
          "execution_count": 46
        },
        {
          "output_type": "display_data",
          "data": {
            "image/png": "[encoded data removed]",
            "text/plain": [
              "<Figure size 432x288 with 1 Axes>"
            ]
          },
          "metadata": {
            "tags": [],
            "needs_background": "light"
          }
        }
      ]
    },
    {
      "cell_type": "code",
      "metadata": {
        "colab": {
          "base_uri": "https://localhost:8080/"
        },
        "id": "FbZ7F0jQ739g",
        "outputId": "01a7212d-5287-447f-8c36-e7ed2fbc522d"
      },
      "source": [
        "train['Gender'].value_counts()"
      ],
      "execution_count": 42,
      "outputs": [
        {
          "output_type": "execute_result",
          "data": {
            "text/plain": [
              "1    134197\n",
              "0    111528\n",
              "Name: Gender, dtype: int64"
            ]
          },
          "metadata": {
            "tags": []
          },
          "execution_count": 42
        }
      ]
    },
    {
      "cell_type": "code",
      "metadata": {
        "colab": {
          "base_uri": "https://localhost:8080/",
          "height": 359
        },
        "id": "-d3r-BMJFr1-",
        "outputId": "fff04ec5-de32-4e37-d675-a2e9fd49379e"
      },
      "source": [
        "train.tail(10)"
      ],
      "execution_count": 47,
      "outputs": [
        {
          "output_type": "execute_result",
          "data": {
            "text/html": [
              "<div>\n",
              "<style scoped>\n",
              "    .dataframe tbody tr th:only-of-type {\n",
              "        vertical-align: middle;\n",
              "    }\n",
              "\n",
              "    .dataframe tbody tr th {\n",
              "        vertical-align: top;\n",
              "    }\n",
              "\n",
              "    .dataframe thead th {\n",
              "        text-align: right;\n",
              "    }\n",
              "</style>\n",
              "<table border=\"1\" class=\"dataframe\">\n",
              "  <thead>\n",
              "    <tr style=\"text-align: right;\">\n",
              "      <th></th>\n",
              "      <th>Gender</th>\n",
              "      <th>Age</th>\n",
              "      <th>Occupation</th>\n",
              "      <th>Channel_Code</th>\n",
              "      <th>Vintage</th>\n",
              "      <th>Credit_Product</th>\n",
              "      <th>Avg_Account_Balance</th>\n",
              "      <th>Is_Active</th>\n",
              "      <th>Is_Lead</th>\n",
              "    </tr>\n",
              "  </thead>\n",
              "  <tbody>\n",
              "    <tr>\n",
              "      <th>245715</th>\n",
              "      <td>0</td>\n",
              "      <td>26</td>\n",
              "      <td>1</td>\n",
              "      <td>0</td>\n",
              "      <td>19</td>\n",
              "      <td>0.0</td>\n",
              "      <td>903608</td>\n",
              "      <td>1</td>\n",
              "      <td>0</td>\n",
              "    </tr>\n",
              "    <tr>\n",
              "      <th>245716</th>\n",
              "      <td>1</td>\n",
              "      <td>41</td>\n",
              "      <td>3</td>\n",
              "      <td>3</td>\n",
              "      <td>14</td>\n",
              "      <td>0.0</td>\n",
              "      <td>368949</td>\n",
              "      <td>1</td>\n",
              "      <td>0</td>\n",
              "    </tr>\n",
              "    <tr>\n",
              "      <th>245717</th>\n",
              "      <td>1</td>\n",
              "      <td>42</td>\n",
              "      <td>3</td>\n",
              "      <td>3</td>\n",
              "      <td>13</td>\n",
              "      <td>0.0</td>\n",
              "      <td>217266</td>\n",
              "      <td>1</td>\n",
              "      <td>0</td>\n",
              "    </tr>\n",
              "    <tr>\n",
              "      <th>245718</th>\n",
              "      <td>1</td>\n",
              "      <td>40</td>\n",
              "      <td>3</td>\n",
              "      <td>1</td>\n",
              "      <td>13</td>\n",
              "      <td>0.0</td>\n",
              "      <td>864937</td>\n",
              "      <td>1</td>\n",
              "      <td>0</td>\n",
              "    </tr>\n",
              "    <tr>\n",
              "      <th>245719</th>\n",
              "      <td>0</td>\n",
              "      <td>38</td>\n",
              "      <td>2</td>\n",
              "      <td>1</td>\n",
              "      <td>13</td>\n",
              "      <td>1.0</td>\n",
              "      <td>354665</td>\n",
              "      <td>0</td>\n",
              "      <td>0</td>\n",
              "    </tr>\n",
              "    <tr>\n",
              "      <th>245720</th>\n",
              "      <td>1</td>\n",
              "      <td>51</td>\n",
              "      <td>3</td>\n",
              "      <td>2</td>\n",
              "      <td>109</td>\n",
              "      <td>0.5</td>\n",
              "      <td>1925586</td>\n",
              "      <td>0</td>\n",
              "      <td>0</td>\n",
              "    </tr>\n",
              "    <tr>\n",
              "      <th>245721</th>\n",
              "      <td>1</td>\n",
              "      <td>27</td>\n",
              "      <td>2</td>\n",
              "      <td>0</td>\n",
              "      <td>15</td>\n",
              "      <td>0.0</td>\n",
              "      <td>862952</td>\n",
              "      <td>1</td>\n",
              "      <td>0</td>\n",
              "    </tr>\n",
              "    <tr>\n",
              "      <th>245722</th>\n",
              "      <td>0</td>\n",
              "      <td>26</td>\n",
              "      <td>2</td>\n",
              "      <td>0</td>\n",
              "      <td>13</td>\n",
              "      <td>0.0</td>\n",
              "      <td>670659</td>\n",
              "      <td>0</td>\n",
              "      <td>0</td>\n",
              "    </tr>\n",
              "    <tr>\n",
              "      <th>245723</th>\n",
              "      <td>0</td>\n",
              "      <td>28</td>\n",
              "      <td>2</td>\n",
              "      <td>0</td>\n",
              "      <td>31</td>\n",
              "      <td>0.0</td>\n",
              "      <td>407504</td>\n",
              "      <td>0</td>\n",
              "      <td>0</td>\n",
              "    </tr>\n",
              "    <tr>\n",
              "      <th>245724</th>\n",
              "      <td>1</td>\n",
              "      <td>29</td>\n",
              "      <td>2</td>\n",
              "      <td>0</td>\n",
              "      <td>21</td>\n",
              "      <td>0.0</td>\n",
              "      <td>1129276</td>\n",
              "      <td>0</td>\n",
              "      <td>0</td>\n",
              "    </tr>\n",
              "  </tbody>\n",
              "</table>\n",
              "</div>"
            ],
            "text/plain": [
              "        Gender  Age  Occupation  ...  Avg_Account_Balance  Is_Active  Is_Lead\n",
              "245715       0   26           1  ...               903608          1        0\n",
              "245716       1   41           3  ...               368949          1        0\n",
              "245717       1   42           3  ...               217266          1        0\n",
              "245718       1   40           3  ...               864937          1        0\n",
              "245719       0   38           2  ...               354665          0        0\n",
              "245720       1   51           3  ...              1925586          0        0\n",
              "245721       1   27           2  ...               862952          1        0\n",
              "245722       0   26           2  ...               670659          0        0\n",
              "245723       0   28           2  ...               407504          0        0\n",
              "245724       1   29           2  ...              1129276          0        0\n",
              "\n",
              "[10 rows x 9 columns]"
            ]
          },
          "metadata": {
            "tags": []
          },
          "execution_count": 47
        }
      ]
    },
    {
      "cell_type": "code",
      "metadata": {
        "id": "Os3nXDC_Fr7j"
      },
      "source": [
        "y=train['Is_Lead']"
      ],
      "execution_count": 49,
      "outputs": []
    },
    {
      "cell_type": "code",
      "metadata": {
        "id": "bc2Mbhl38ZuW"
      },
      "source": [
        "train=train.drop(['Is_Lead'],axis=1)"
      ],
      "execution_count": 50,
      "outputs": []
    },
    {
      "cell_type": "code",
      "metadata": {
        "id": "4Hob4K5bIE1k"
      },
      "source": [
        "sc=StandardScaler()\n",
        "train=sc.fit_transform(train)"
      ],
      "execution_count": 58,
      "outputs": []
    },
    {
      "cell_type": "code",
      "metadata": {
        "colab": {
          "base_uri": "https://localhost:8080/"
        },
        "id": "NYHDf6XMF5Gq",
        "outputId": "f8f88723-a7b0-4ce9-f842-7b8214dadb5b"
      },
      "source": [
        "X_train,X_test,y_train,y_test=train_test_split(train,y,test_size=0.1,random_state=35)\n",
        "\n",
        "print(X_train.shape)\n",
        "print(X_test.shape)\n",
        "print(y_train.shape)\n",
        "print(y_test.shape)"
      ],
      "execution_count": 59,
      "outputs": [
        {
          "output_type": "stream",
          "text": [
            "(221152, 8)\n",
            "(24573, 8)\n",
            "(221152,)\n",
            "(24573,)\n"
          ],
          "name": "stdout"
        }
      ]
    },
    {
      "cell_type": "code",
      "metadata": {
        "colab": {
          "base_uri": "https://localhost:8080/"
        },
        "id": "pVuBcLtZIIKI",
        "outputId": "cface01e-6228-45e6-8fda-5ede3312ec50"
      },
      "source": [
        "type(train)"
      ],
      "execution_count": 60,
      "outputs": [
        {
          "output_type": "execute_result",
          "data": {
            "text/plain": [
              "numpy.ndarray"
            ]
          },
          "metadata": {
            "tags": []
          },
          "execution_count": 60
        }
      ]
    },
    {
      "cell_type": "markdown",
      "metadata": {
        "id": "TsvCZWWmGAsY"
      },
      "source": [
        "## Model Building"
      ]
    },
    {
      "cell_type": "code",
      "metadata": {
        "id": "MdZ8ckYxF5Lq"
      },
      "source": [
        "from keras.models import Sequential\n",
        "from keras.layers import Dense, Dropout"
      ],
      "execution_count": 61,
      "outputs": []
    },
    {
      "cell_type": "code",
      "metadata": {
        "colab": {
          "base_uri": "https://localhost:8080/"
        },
        "id": "CMRAoeTsF5N9",
        "outputId": "f129f110-79da-49e2-e60a-d1cc7fd4d35e"
      },
      "source": [
        "model=Sequential()\n",
        "\n",
        "model.add(Dense(6, activation = 'relu', input_shape = (X_train.shape[1], )))\n",
        "model.add(Dropout(rate=0.1)) \n",
        "\n",
        "model.add(Dense(6, activation = 'relu')) \n",
        "model.add(Dropout(rate=0.1)) \n",
        "model.add(Dense(6, activation = 'relu')) \n",
        "model.add(Dropout(rate=0.1)) \n",
        "model.add(Dense(3, activation = 'relu')) \n",
        "model.add(Dropout(rate=0.1)) \n",
        "model.add(Dense(1, activation = 'sigmoid')) \n",
        "\n",
        "model.summary()"
      ],
      "execution_count": 65,
      "outputs": [
        {
          "output_type": "stream",
          "text": [
            "Model: \"sequential_2\"\n",
            "_________________________________________________________________\n",
            "Layer (type)                 Output Shape              Param #   \n",
            "=================================================================\n",
            "dense_6 (Dense)              (None, 6)                 54        \n",
            "_________________________________________________________________\n",
            "dropout_4 (Dropout)          (None, 6)                 0         \n",
            "_________________________________________________________________\n",
            "dense_7 (Dense)              (None, 6)                 42        \n",
            "_________________________________________________________________\n",
            "dropout_5 (Dropout)          (None, 6)                 0         \n",
            "_________________________________________________________________\n",
            "dense_8 (Dense)              (None, 6)                 42        \n",
            "_________________________________________________________________\n",
            "dropout_6 (Dropout)          (None, 6)                 0         \n",
            "_________________________________________________________________\n",
            "dense_9 (Dense)              (None, 3)                 21        \n",
            "_________________________________________________________________\n",
            "dropout_7 (Dropout)          (None, 3)                 0         \n",
            "_________________________________________________________________\n",
            "dense_10 (Dense)             (None, 1)                 4         \n",
            "=================================================================\n",
            "Total params: 163\n",
            "Trainable params: 163\n",
            "Non-trainable params: 0\n",
            "_________________________________________________________________\n"
          ],
          "name": "stdout"
        }
      ]
    },
    {
      "cell_type": "code",
      "metadata": {
        "id": "_rgY7VpyF5QO"
      },
      "source": [
        "model.compile(optimizer='adam', loss = 'binary_crossentropy', metrics=['accuracy'])"
      ],
      "execution_count": 66,
      "outputs": []
    },
    {
      "cell_type": "code",
      "metadata": {
        "colab": {
          "base_uri": "https://localhost:8080/"
        },
        "id": "cgFa071THbiV",
        "outputId": "57420cf4-324a-4d1c-ce19-a3afb88711be"
      },
      "source": [
        "history=model.fit(X_train,y_train,batch_size=32,epochs=200,validation_data=(X_test,y_test),verbose=2)"
      ],
      "execution_count": 67,
      "outputs": [
        {
          "output_type": "stream",
          "text": [
            "Epoch 1/200\n",
            "6911/6911 - 9s - loss: 0.4474 - accuracy: 0.7919 - val_loss: 0.3855 - val_accuracy: 0.8423\n",
            "Epoch 2/200\n",
            "6911/6911 - 8s - loss: 0.4014 - accuracy: 0.8281 - val_loss: 0.3754 - val_accuracy: 0.8459\n",
            "Epoch 3/200\n",
            "6911/6911 - 8s - loss: 0.3944 - accuracy: 0.8323 - val_loss: 0.3701 - val_accuracy: 0.8471\n",
            "Epoch 4/200\n",
            "6911/6911 - 8s - loss: 0.3917 - accuracy: 0.8319 - val_loss: 0.3746 - val_accuracy: 0.8461\n",
            "Epoch 5/200\n",
            "6911/6911 - 8s - loss: 0.3910 - accuracy: 0.8326 - val_loss: 0.3711 - val_accuracy: 0.8469\n",
            "Epoch 6/200\n",
            "6911/6911 - 8s - loss: 0.3898 - accuracy: 0.8331 - val_loss: 0.3705 - val_accuracy: 0.8470\n",
            "Epoch 7/200\n",
            "6911/6911 - 8s - loss: 0.3893 - accuracy: 0.8327 - val_loss: 0.3695 - val_accuracy: 0.8476\n",
            "Epoch 8/200\n",
            "6911/6911 - 8s - loss: 0.3899 - accuracy: 0.8325 - val_loss: 0.3717 - val_accuracy: 0.8475\n",
            "Epoch 9/200\n",
            "6911/6911 - 8s - loss: 0.3890 - accuracy: 0.8331 - val_loss: 0.3785 - val_accuracy: 0.8479\n",
            "Epoch 10/200\n",
            "6911/6911 - 9s - loss: 0.3892 - accuracy: 0.8328 - val_loss: 0.3725 - val_accuracy: 0.8473\n",
            "Epoch 11/200\n",
            "6911/6911 - 8s - loss: 0.3896 - accuracy: 0.8323 - val_loss: 0.3714 - val_accuracy: 0.8478\n",
            "Epoch 12/200\n",
            "6911/6911 - 8s - loss: 0.3891 - accuracy: 0.8327 - val_loss: 0.3707 - val_accuracy: 0.8476\n",
            "Epoch 13/200\n",
            "6911/6911 - 8s - loss: 0.3890 - accuracy: 0.8327 - val_loss: 0.3745 - val_accuracy: 0.8415\n",
            "Epoch 14/200\n",
            "6911/6911 - 8s - loss: 0.3889 - accuracy: 0.8330 - val_loss: 0.3729 - val_accuracy: 0.8475\n",
            "Epoch 15/200\n",
            "6911/6911 - 8s - loss: 0.3880 - accuracy: 0.8323 - val_loss: 0.3763 - val_accuracy: 0.8470\n",
            "Epoch 16/200\n",
            "6911/6911 - 8s - loss: 0.3881 - accuracy: 0.8323 - val_loss: 0.3712 - val_accuracy: 0.8476\n",
            "Epoch 17/200\n",
            "6911/6911 - 8s - loss: 0.3875 - accuracy: 0.8330 - val_loss: 0.3700 - val_accuracy: 0.8474\n",
            "Epoch 18/200\n",
            "6911/6911 - 8s - loss: 0.3887 - accuracy: 0.8327 - val_loss: 0.3728 - val_accuracy: 0.8471\n",
            "Epoch 19/200\n",
            "6911/6911 - 8s - loss: 0.3881 - accuracy: 0.8328 - val_loss: 0.3740 - val_accuracy: 0.8476\n",
            "Epoch 20/200\n",
            "6911/6911 - 8s - loss: 0.3878 - accuracy: 0.8330 - val_loss: 0.3704 - val_accuracy: 0.8469\n",
            "Epoch 21/200\n",
            "6911/6911 - 8s - loss: 0.3883 - accuracy: 0.8335 - val_loss: 0.3714 - val_accuracy: 0.8473\n",
            "Epoch 22/200\n",
            "6911/6911 - 8s - loss: 0.3879 - accuracy: 0.8334 - val_loss: 0.3707 - val_accuracy: 0.8465\n",
            "Epoch 23/200\n",
            "6911/6911 - 8s - loss: 0.3878 - accuracy: 0.8334 - val_loss: 0.3726 - val_accuracy: 0.8467\n",
            "Epoch 24/200\n",
            "6911/6911 - 8s - loss: 0.3880 - accuracy: 0.8327 - val_loss: 0.3704 - val_accuracy: 0.8474\n",
            "Epoch 25/200\n",
            "6911/6911 - 8s - loss: 0.3876 - accuracy: 0.8332 - val_loss: 0.3696 - val_accuracy: 0.8477\n",
            "Epoch 26/200\n",
            "6911/6911 - 8s - loss: 0.3876 - accuracy: 0.8328 - val_loss: 0.3727 - val_accuracy: 0.8474\n",
            "Epoch 27/200\n",
            "6911/6911 - 8s - loss: 0.3889 - accuracy: 0.8317 - val_loss: 0.3730 - val_accuracy: 0.8472\n",
            "Epoch 28/200\n",
            "6911/6911 - 8s - loss: 0.3880 - accuracy: 0.8328 - val_loss: 0.3702 - val_accuracy: 0.8478\n",
            "Epoch 29/200\n",
            "6911/6911 - 8s - loss: 0.3874 - accuracy: 0.8331 - val_loss: 0.3732 - val_accuracy: 0.8470\n",
            "Epoch 30/200\n",
            "6911/6911 - 8s - loss: 0.3870 - accuracy: 0.8331 - val_loss: 0.3702 - val_accuracy: 0.8477\n",
            "Epoch 31/200\n",
            "6911/6911 - 8s - loss: 0.3883 - accuracy: 0.8331 - val_loss: 0.3706 - val_accuracy: 0.8469\n",
            "Epoch 32/200\n",
            "6911/6911 - 8s - loss: 0.3886 - accuracy: 0.8327 - val_loss: 0.3712 - val_accuracy: 0.8476\n",
            "Epoch 33/200\n",
            "6911/6911 - 8s - loss: 0.3873 - accuracy: 0.8334 - val_loss: 0.3703 - val_accuracy: 0.8473\n",
            "Epoch 34/200\n",
            "6911/6911 - 8s - loss: 0.3878 - accuracy: 0.8330 - val_loss: 0.3698 - val_accuracy: 0.8474\n",
            "Epoch 35/200\n",
            "6911/6911 - 8s - loss: 0.3877 - accuracy: 0.8332 - val_loss: 0.3690 - val_accuracy: 0.8476\n",
            "Epoch 36/200\n",
            "6911/6911 - 8s - loss: 0.3876 - accuracy: 0.8331 - val_loss: 0.3727 - val_accuracy: 0.8476\n",
            "Epoch 37/200\n",
            "6911/6911 - 8s - loss: 0.3873 - accuracy: 0.8331 - val_loss: 0.3714 - val_accuracy: 0.8470\n",
            "Epoch 38/200\n",
            "6911/6911 - 8s - loss: 0.3872 - accuracy: 0.8331 - val_loss: 0.3702 - val_accuracy: 0.8467\n",
            "Epoch 39/200\n",
            "6911/6911 - 8s - loss: 0.3872 - accuracy: 0.8330 - val_loss: 0.3727 - val_accuracy: 0.8471\n",
            "Epoch 40/200\n",
            "6911/6911 - 8s - loss: 0.3881 - accuracy: 0.8328 - val_loss: 0.3695 - val_accuracy: 0.8473\n",
            "Epoch 41/200\n",
            "6911/6911 - 8s - loss: 0.3874 - accuracy: 0.8328 - val_loss: 0.3712 - val_accuracy: 0.8476\n",
            "Epoch 42/200\n",
            "6911/6911 - 8s - loss: 0.3872 - accuracy: 0.8334 - val_loss: 0.3757 - val_accuracy: 0.8475\n",
            "Epoch 43/200\n",
            "6911/6911 - 8s - loss: 0.3879 - accuracy: 0.8325 - val_loss: 0.3737 - val_accuracy: 0.8476\n",
            "Epoch 44/200\n",
            "6911/6911 - 8s - loss: 0.3879 - accuracy: 0.8331 - val_loss: 0.3694 - val_accuracy: 0.8475\n",
            "Epoch 45/200\n",
            "6911/6911 - 8s - loss: 0.3879 - accuracy: 0.8323 - val_loss: 0.3737 - val_accuracy: 0.8481\n",
            "Epoch 46/200\n",
            "6911/6911 - 8s - loss: 0.3877 - accuracy: 0.8322 - val_loss: 0.3685 - val_accuracy: 0.8473\n",
            "Epoch 47/200\n",
            "6911/6911 - 8s - loss: 0.3872 - accuracy: 0.8337 - val_loss: 0.3700 - val_accuracy: 0.8474\n",
            "Epoch 48/200\n",
            "6911/6911 - 8s - loss: 0.3879 - accuracy: 0.8330 - val_loss: 0.3756 - val_accuracy: 0.8473\n",
            "Epoch 49/200\n",
            "6911/6911 - 8s - loss: 0.3876 - accuracy: 0.8321 - val_loss: 0.3714 - val_accuracy: 0.8474\n",
            "Epoch 50/200\n",
            "6911/6911 - 8s - loss: 0.3874 - accuracy: 0.8326 - val_loss: 0.3704 - val_accuracy: 0.8476\n",
            "Epoch 51/200\n",
            "6911/6911 - 8s - loss: 0.3883 - accuracy: 0.8325 - val_loss: 0.3706 - val_accuracy: 0.8472\n",
            "Epoch 52/200\n",
            "6911/6911 - 8s - loss: 0.3876 - accuracy: 0.8326 - val_loss: 0.3696 - val_accuracy: 0.8475\n",
            "Epoch 53/200\n",
            "6911/6911 - 8s - loss: 0.3879 - accuracy: 0.8325 - val_loss: 0.3711 - val_accuracy: 0.8479\n",
            "Epoch 54/200\n",
            "6911/6911 - 8s - loss: 0.3870 - accuracy: 0.8333 - val_loss: 0.3710 - val_accuracy: 0.8475\n",
            "Epoch 55/200\n",
            "6911/6911 - 8s - loss: 0.3867 - accuracy: 0.8332 - val_loss: 0.3715 - val_accuracy: 0.8476\n",
            "Epoch 56/200\n",
            "6911/6911 - 8s - loss: 0.3875 - accuracy: 0.8325 - val_loss: 0.3722 - val_accuracy: 0.8477\n",
            "Epoch 57/200\n",
            "6911/6911 - 8s - loss: 0.3869 - accuracy: 0.8334 - val_loss: 0.3711 - val_accuracy: 0.8472\n",
            "Epoch 58/200\n",
            "6911/6911 - 9s - loss: 0.3871 - accuracy: 0.8334 - val_loss: 0.3724 - val_accuracy: 0.8471\n",
            "Epoch 59/200\n",
            "6911/6911 - 8s - loss: 0.3878 - accuracy: 0.8325 - val_loss: 0.3706 - val_accuracy: 0.8478\n",
            "Epoch 60/200\n",
            "6911/6911 - 8s - loss: 0.3873 - accuracy: 0.8328 - val_loss: 0.3702 - val_accuracy: 0.8475\n",
            "Epoch 61/200\n",
            "6911/6911 - 8s - loss: 0.3869 - accuracy: 0.8339 - val_loss: 0.3708 - val_accuracy: 0.8475\n",
            "Epoch 62/200\n",
            "6911/6911 - 8s - loss: 0.3875 - accuracy: 0.8327 - val_loss: 0.3702 - val_accuracy: 0.8475\n",
            "Epoch 63/200\n",
            "6911/6911 - 8s - loss: 0.3878 - accuracy: 0.8329 - val_loss: 0.3715 - val_accuracy: 0.8474\n",
            "Epoch 64/200\n",
            "6911/6911 - 8s - loss: 0.3872 - accuracy: 0.8323 - val_loss: 0.3720 - val_accuracy: 0.8472\n",
            "Epoch 65/200\n",
            "6911/6911 - 8s - loss: 0.3871 - accuracy: 0.8328 - val_loss: 0.3709 - val_accuracy: 0.8476\n",
            "Epoch 66/200\n",
            "6911/6911 - 8s - loss: 0.3871 - accuracy: 0.8337 - val_loss: 0.3711 - val_accuracy: 0.8474\n",
            "Epoch 67/200\n",
            "6911/6911 - 8s - loss: 0.3871 - accuracy: 0.8333 - val_loss: 0.3704 - val_accuracy: 0.8476\n",
            "Epoch 68/200\n",
            "6911/6911 - 8s - loss: 0.3874 - accuracy: 0.8330 - val_loss: 0.3696 - val_accuracy: 0.8468\n",
            "Epoch 69/200\n",
            "6911/6911 - 8s - loss: 0.3871 - accuracy: 0.8339 - val_loss: 0.3700 - val_accuracy: 0.8469\n",
            "Epoch 70/200\n",
            "6911/6911 - 8s - loss: 0.3873 - accuracy: 0.8338 - val_loss: 0.3710 - val_accuracy: 0.8470\n",
            "Epoch 71/200\n",
            "6911/6911 - 8s - loss: 0.3866 - accuracy: 0.8335 - val_loss: 0.3722 - val_accuracy: 0.8477\n",
            "Epoch 72/200\n",
            "6911/6911 - 8s - loss: 0.3870 - accuracy: 0.8328 - val_loss: 0.3696 - val_accuracy: 0.8470\n",
            "Epoch 73/200\n",
            "6911/6911 - 8s - loss: 0.3870 - accuracy: 0.8328 - val_loss: 0.3693 - val_accuracy: 0.8468\n",
            "Epoch 74/200\n",
            "6911/6911 - 8s - loss: 0.3864 - accuracy: 0.8339 - val_loss: 0.3705 - val_accuracy: 0.8468\n",
            "Epoch 75/200\n",
            "6911/6911 - 8s - loss: 0.3871 - accuracy: 0.8326 - val_loss: 0.3686 - val_accuracy: 0.8478\n",
            "Epoch 76/200\n",
            "6911/6911 - 9s - loss: 0.3867 - accuracy: 0.8338 - val_loss: 0.3727 - val_accuracy: 0.8476\n",
            "Epoch 77/200\n",
            "6911/6911 - 8s - loss: 0.3863 - accuracy: 0.8335 - val_loss: 0.3700 - val_accuracy: 0.8468\n",
            "Epoch 78/200\n",
            "6911/6911 - 8s - loss: 0.3868 - accuracy: 0.8332 - val_loss: 0.3696 - val_accuracy: 0.8470\n",
            "Epoch 79/200\n",
            "6911/6911 - 8s - loss: 0.3868 - accuracy: 0.8331 - val_loss: 0.3709 - val_accuracy: 0.8478\n",
            "Epoch 80/200\n",
            "6911/6911 - 8s - loss: 0.3870 - accuracy: 0.8335 - val_loss: 0.3705 - val_accuracy: 0.8477\n",
            "Epoch 81/200\n",
            "6911/6911 - 8s - loss: 0.3861 - accuracy: 0.8339 - val_loss: 0.3699 - val_accuracy: 0.8474\n",
            "Epoch 82/200\n",
            "6911/6911 - 8s - loss: 0.3871 - accuracy: 0.8330 - val_loss: 0.3720 - val_accuracy: 0.8474\n",
            "Epoch 83/200\n",
            "6911/6911 - 8s - loss: 0.3868 - accuracy: 0.8335 - val_loss: 0.3729 - val_accuracy: 0.8476\n",
            "Epoch 84/200\n",
            "6911/6911 - 8s - loss: 0.3867 - accuracy: 0.8330 - val_loss: 0.3704 - val_accuracy: 0.8469\n",
            "Epoch 85/200\n",
            "6911/6911 - 8s - loss: 0.3868 - accuracy: 0.8333 - val_loss: 0.3698 - val_accuracy: 0.8473\n",
            "Epoch 86/200\n",
            "6911/6911 - 8s - loss: 0.3868 - accuracy: 0.8331 - val_loss: 0.3686 - val_accuracy: 0.8478\n",
            "Epoch 87/200\n",
            "6911/6911 - 8s - loss: 0.3864 - accuracy: 0.8340 - val_loss: 0.3699 - val_accuracy: 0.8476\n",
            "Epoch 88/200\n",
            "6911/6911 - 8s - loss: 0.3875 - accuracy: 0.8334 - val_loss: 0.3700 - val_accuracy: 0.8475\n",
            "Epoch 89/200\n",
            "6911/6911 - 8s - loss: 0.3873 - accuracy: 0.8329 - val_loss: 0.3704 - val_accuracy: 0.8472\n",
            "Epoch 90/200\n",
            "6911/6911 - 8s - loss: 0.3871 - accuracy: 0.8328 - val_loss: 0.3702 - val_accuracy: 0.8477\n",
            "Epoch 91/200\n",
            "6911/6911 - 8s - loss: 0.3881 - accuracy: 0.8325 - val_loss: 0.3687 - val_accuracy: 0.8470\n",
            "Epoch 92/200\n",
            "6911/6911 - 8s - loss: 0.3863 - accuracy: 0.8336 - val_loss: 0.3703 - val_accuracy: 0.8474\n",
            "Epoch 93/200\n",
            "6911/6911 - 8s - loss: 0.3875 - accuracy: 0.8327 - val_loss: 0.3681 - val_accuracy: 0.8475\n",
            "Epoch 94/200\n",
            "6911/6911 - 9s - loss: 0.3867 - accuracy: 0.8334 - val_loss: 0.3710 - val_accuracy: 0.8476\n",
            "Epoch 95/200\n",
            "6911/6911 - 8s - loss: 0.3869 - accuracy: 0.8334 - val_loss: 0.3710 - val_accuracy: 0.8476\n",
            "Epoch 96/200\n",
            "6911/6911 - 8s - loss: 0.3874 - accuracy: 0.8328 - val_loss: 0.3708 - val_accuracy: 0.8481\n",
            "Epoch 97/200\n",
            "6911/6911 - 9s - loss: 0.3869 - accuracy: 0.8334 - val_loss: 0.3679 - val_accuracy: 0.8474\n",
            "Epoch 98/200\n",
            "6911/6911 - 8s - loss: 0.3868 - accuracy: 0.8337 - val_loss: 0.3714 - val_accuracy: 0.8475\n",
            "Epoch 99/200\n",
            "6911/6911 - 8s - loss: 0.3868 - accuracy: 0.8334 - val_loss: 0.3703 - val_accuracy: 0.8476\n",
            "Epoch 100/200\n",
            "6911/6911 - 8s - loss: 0.3869 - accuracy: 0.8326 - val_loss: 0.3707 - val_accuracy: 0.8478\n",
            "Epoch 101/200\n",
            "6911/6911 - 8s - loss: 0.3870 - accuracy: 0.8326 - val_loss: 0.3723 - val_accuracy: 0.8473\n",
            "Epoch 102/200\n",
            "6911/6911 - 8s - loss: 0.3870 - accuracy: 0.8328 - val_loss: 0.3708 - val_accuracy: 0.8469\n",
            "Epoch 103/200\n",
            "6911/6911 - 8s - loss: 0.3866 - accuracy: 0.8326 - val_loss: 0.3706 - val_accuracy: 0.8475\n",
            "Epoch 104/200\n",
            "6911/6911 - 8s - loss: 0.3861 - accuracy: 0.8337 - val_loss: 0.3723 - val_accuracy: 0.8470\n",
            "Epoch 105/200\n",
            "6911/6911 - 8s - loss: 0.3858 - accuracy: 0.8333 - val_loss: 0.3698 - val_accuracy: 0.8477\n",
            "Epoch 106/200\n",
            "6911/6911 - 8s - loss: 0.3861 - accuracy: 0.8330 - val_loss: 0.3700 - val_accuracy: 0.8478\n",
            "Epoch 107/200\n",
            "6911/6911 - 8s - loss: 0.3858 - accuracy: 0.8331 - val_loss: 0.3696 - val_accuracy: 0.8469\n",
            "Epoch 108/200\n",
            "6911/6911 - 8s - loss: 0.3870 - accuracy: 0.8329 - val_loss: 0.3725 - val_accuracy: 0.8451\n",
            "Epoch 109/200\n",
            "6911/6911 - 8s - loss: 0.3862 - accuracy: 0.8330 - val_loss: 0.3693 - val_accuracy: 0.8476\n",
            "Epoch 110/200\n",
            "6911/6911 - 8s - loss: 0.3859 - accuracy: 0.8340 - val_loss: 0.3723 - val_accuracy: 0.8471\n",
            "Epoch 111/200\n",
            "6911/6911 - 8s - loss: 0.3863 - accuracy: 0.8335 - val_loss: 0.3713 - val_accuracy: 0.8472\n",
            "Epoch 112/200\n",
            "6911/6911 - 8s - loss: 0.3858 - accuracy: 0.8334 - val_loss: 0.3716 - val_accuracy: 0.8469\n",
            "Epoch 113/200\n",
            "6911/6911 - 8s - loss: 0.3856 - accuracy: 0.8335 - val_loss: 0.3710 - val_accuracy: 0.8474\n",
            "Epoch 114/200\n",
            "6911/6911 - 8s - loss: 0.3863 - accuracy: 0.8339 - val_loss: 0.3701 - val_accuracy: 0.8473\n",
            "Epoch 115/200\n",
            "6911/6911 - 8s - loss: 0.3863 - accuracy: 0.8331 - val_loss: 0.3699 - val_accuracy: 0.8472\n",
            "Epoch 116/200\n",
            "6911/6911 - 8s - loss: 0.3864 - accuracy: 0.8329 - val_loss: 0.3697 - val_accuracy: 0.8476\n",
            "Epoch 117/200\n",
            "6911/6911 - 8s - loss: 0.3867 - accuracy: 0.8326 - val_loss: 0.3714 - val_accuracy: 0.8476\n",
            "Epoch 118/200\n",
            "6911/6911 - 8s - loss: 0.3865 - accuracy: 0.8329 - val_loss: 0.3693 - val_accuracy: 0.8474\n",
            "Epoch 119/200\n",
            "6911/6911 - 8s - loss: 0.3867 - accuracy: 0.8322 - val_loss: 0.3703 - val_accuracy: 0.8476\n",
            "Epoch 120/200\n",
            "6911/6911 - 8s - loss: 0.3869 - accuracy: 0.8331 - val_loss: 0.3691 - val_accuracy: 0.8476\n",
            "Epoch 121/200\n",
            "6911/6911 - 8s - loss: 0.3858 - accuracy: 0.8334 - val_loss: 0.3709 - val_accuracy: 0.8469\n",
            "Epoch 122/200\n",
            "6911/6911 - 8s - loss: 0.3857 - accuracy: 0.8338 - val_loss: 0.3702 - val_accuracy: 0.8471\n",
            "Epoch 123/200\n",
            "6911/6911 - 8s - loss: 0.3862 - accuracy: 0.8330 - val_loss: 0.3698 - val_accuracy: 0.8469\n",
            "Epoch 124/200\n",
            "6911/6911 - 8s - loss: 0.3858 - accuracy: 0.8334 - val_loss: 0.3721 - val_accuracy: 0.8471\n",
            "Epoch 125/200\n",
            "6911/6911 - 8s - loss: 0.3867 - accuracy: 0.8332 - val_loss: 0.3726 - val_accuracy: 0.8462\n",
            "Epoch 126/200\n",
            "6911/6911 - 8s - loss: 0.3860 - accuracy: 0.8333 - val_loss: 0.3714 - val_accuracy: 0.8474\n",
            "Epoch 127/200\n",
            "6911/6911 - 8s - loss: 0.3863 - accuracy: 0.8334 - val_loss: 0.3704 - val_accuracy: 0.8474\n",
            "Epoch 128/200\n",
            "6911/6911 - 8s - loss: 0.3856 - accuracy: 0.8337 - val_loss: 0.3712 - val_accuracy: 0.8476\n",
            "Epoch 129/200\n",
            "6911/6911 - 8s - loss: 0.3866 - accuracy: 0.8334 - val_loss: 0.3707 - val_accuracy: 0.8474\n",
            "Epoch 130/200\n",
            "6911/6911 - 8s - loss: 0.3862 - accuracy: 0.8331 - val_loss: 0.3723 - val_accuracy: 0.8478\n",
            "Epoch 131/200\n",
            "6911/6911 - 8s - loss: 0.3852 - accuracy: 0.8336 - val_loss: 0.3710 - val_accuracy: 0.8471\n",
            "Epoch 132/200\n",
            "6911/6911 - 8s - loss: 0.3861 - accuracy: 0.8330 - val_loss: 0.3720 - val_accuracy: 0.8475\n",
            "Epoch 133/200\n",
            "6911/6911 - 8s - loss: 0.3857 - accuracy: 0.8333 - val_loss: 0.3707 - val_accuracy: 0.8476\n",
            "Epoch 134/200\n",
            "6911/6911 - 8s - loss: 0.3859 - accuracy: 0.8335 - val_loss: 0.3703 - val_accuracy: 0.8475\n",
            "Epoch 135/200\n",
            "6911/6911 - 8s - loss: 0.3859 - accuracy: 0.8328 - val_loss: 0.3701 - val_accuracy: 0.8474\n",
            "Epoch 136/200\n",
            "6911/6911 - 8s - loss: 0.3864 - accuracy: 0.8334 - val_loss: 0.3708 - val_accuracy: 0.8474\n",
            "Epoch 137/200\n",
            "6911/6911 - 8s - loss: 0.3866 - accuracy: 0.8332 - val_loss: 0.3680 - val_accuracy: 0.8474\n",
            "Epoch 138/200\n",
            "6911/6911 - 8s - loss: 0.3858 - accuracy: 0.8336 - val_loss: 0.3711 - val_accuracy: 0.8471\n",
            "Epoch 139/200\n",
            "6911/6911 - 8s - loss: 0.3865 - accuracy: 0.8337 - val_loss: 0.3699 - val_accuracy: 0.8481\n",
            "Epoch 140/200\n",
            "6911/6911 - 8s - loss: 0.3864 - accuracy: 0.8334 - val_loss: 0.3706 - val_accuracy: 0.8475\n",
            "Epoch 141/200\n",
            "6911/6911 - 8s - loss: 0.3859 - accuracy: 0.8332 - val_loss: 0.3701 - val_accuracy: 0.8467\n",
            "Epoch 142/200\n",
            "6911/6911 - 8s - loss: 0.3856 - accuracy: 0.8333 - val_loss: 0.3711 - val_accuracy: 0.8473\n",
            "Epoch 143/200\n",
            "6911/6911 - 8s - loss: 0.3854 - accuracy: 0.8330 - val_loss: 0.3691 - val_accuracy: 0.8475\n",
            "Epoch 144/200\n",
            "6911/6911 - 8s - loss: 0.3856 - accuracy: 0.8331 - val_loss: 0.3687 - val_accuracy: 0.8473\n",
            "Epoch 145/200\n",
            "6911/6911 - 8s - loss: 0.3862 - accuracy: 0.8333 - val_loss: 0.3701 - val_accuracy: 0.8475\n",
            "Epoch 146/200\n",
            "6911/6911 - 8s - loss: 0.3861 - accuracy: 0.8339 - val_loss: 0.3697 - val_accuracy: 0.8474\n",
            "Epoch 147/200\n",
            "6911/6911 - 8s - loss: 0.3861 - accuracy: 0.8332 - val_loss: 0.3706 - val_accuracy: 0.8468\n",
            "Epoch 148/200\n",
            "6911/6911 - 8s - loss: 0.3862 - accuracy: 0.8330 - val_loss: 0.3695 - val_accuracy: 0.8471\n",
            "Epoch 149/200\n",
            "6911/6911 - 8s - loss: 0.3860 - accuracy: 0.8331 - val_loss: 0.3685 - val_accuracy: 0.8478\n",
            "Epoch 150/200\n",
            "6911/6911 - 8s - loss: 0.3858 - accuracy: 0.8334 - val_loss: 0.3700 - val_accuracy: 0.8475\n",
            "Epoch 151/200\n",
            "6911/6911 - 8s - loss: 0.3859 - accuracy: 0.8336 - val_loss: 0.3701 - val_accuracy: 0.8474\n",
            "Epoch 152/200\n",
            "6911/6911 - 8s - loss: 0.3848 - accuracy: 0.8335 - val_loss: 0.3675 - val_accuracy: 0.8474\n",
            "Epoch 153/200\n",
            "6911/6911 - 8s - loss: 0.3861 - accuracy: 0.8335 - val_loss: 0.3700 - val_accuracy: 0.8472\n",
            "Epoch 154/200\n",
            "6911/6911 - 8s - loss: 0.3858 - accuracy: 0.8335 - val_loss: 0.3686 - val_accuracy: 0.8474\n",
            "Epoch 155/200\n",
            "6911/6911 - 8s - loss: 0.3853 - accuracy: 0.8335 - val_loss: 0.3697 - val_accuracy: 0.8473\n",
            "Epoch 156/200\n",
            "6911/6911 - 8s - loss: 0.3865 - accuracy: 0.8332 - val_loss: 0.3704 - val_accuracy: 0.8476\n",
            "Epoch 157/200\n",
            "6911/6911 - 8s - loss: 0.3862 - accuracy: 0.8336 - val_loss: 0.3713 - val_accuracy: 0.8473\n",
            "Epoch 158/200\n",
            "6911/6911 - 8s - loss: 0.3865 - accuracy: 0.8326 - val_loss: 0.3704 - val_accuracy: 0.8465\n",
            "Epoch 159/200\n",
            "6911/6911 - 8s - loss: 0.3866 - accuracy: 0.8326 - val_loss: 0.3703 - val_accuracy: 0.8478\n",
            "Epoch 160/200\n",
            "6911/6911 - 8s - loss: 0.3861 - accuracy: 0.8330 - val_loss: 0.3689 - val_accuracy: 0.8474\n",
            "Epoch 161/200\n",
            "6911/6911 - 8s - loss: 0.3859 - accuracy: 0.8335 - val_loss: 0.3684 - val_accuracy: 0.8474\n",
            "Epoch 162/200\n",
            "6911/6911 - 8s - loss: 0.3865 - accuracy: 0.8330 - val_loss: 0.3699 - val_accuracy: 0.8477\n",
            "Epoch 163/200\n",
            "6911/6911 - 8s - loss: 0.3856 - accuracy: 0.8330 - val_loss: 0.3691 - val_accuracy: 0.8478\n",
            "Epoch 164/200\n",
            "6911/6911 - 8s - loss: 0.3853 - accuracy: 0.8345 - val_loss: 0.3706 - val_accuracy: 0.8475\n",
            "Epoch 165/200\n",
            "6911/6911 - 8s - loss: 0.3860 - accuracy: 0.8340 - val_loss: 0.3728 - val_accuracy: 0.8476\n",
            "Epoch 166/200\n",
            "6911/6911 - 8s - loss: 0.3858 - accuracy: 0.8337 - val_loss: 0.3684 - val_accuracy: 0.8476\n",
            "Epoch 167/200\n",
            "6911/6911 - 8s - loss: 0.3854 - accuracy: 0.8338 - val_loss: 0.3688 - val_accuracy: 0.8474\n",
            "Epoch 168/200\n",
            "6911/6911 - 8s - loss: 0.3864 - accuracy: 0.8327 - val_loss: 0.3704 - val_accuracy: 0.8476\n",
            "Epoch 169/200\n",
            "6911/6911 - 8s - loss: 0.3861 - accuracy: 0.8331 - val_loss: 0.3683 - val_accuracy: 0.8469\n",
            "Epoch 170/200\n",
            "6911/6911 - 8s - loss: 0.3863 - accuracy: 0.8334 - val_loss: 0.3683 - val_accuracy: 0.8469\n",
            "Epoch 171/200\n",
            "6911/6911 - 8s - loss: 0.3853 - accuracy: 0.8334 - val_loss: 0.3695 - val_accuracy: 0.8474\n",
            "Epoch 172/200\n",
            "6911/6911 - 8s - loss: 0.3868 - accuracy: 0.8331 - val_loss: 0.3686 - val_accuracy: 0.8476\n",
            "Epoch 173/200\n",
            "6911/6911 - 8s - loss: 0.3869 - accuracy: 0.8330 - val_loss: 0.3697 - val_accuracy: 0.8480\n",
            "Epoch 174/200\n",
            "6911/6911 - 8s - loss: 0.3860 - accuracy: 0.8329 - val_loss: 0.3701 - val_accuracy: 0.8478\n",
            "Epoch 175/200\n",
            "6911/6911 - 8s - loss: 0.3860 - accuracy: 0.8332 - val_loss: 0.3688 - val_accuracy: 0.8476\n",
            "Epoch 176/200\n",
            "6911/6911 - 8s - loss: 0.3858 - accuracy: 0.8338 - val_loss: 0.3701 - val_accuracy: 0.8474\n",
            "Epoch 177/200\n",
            "6911/6911 - 8s - loss: 0.3856 - accuracy: 0.8341 - val_loss: 0.3722 - val_accuracy: 0.8469\n",
            "Epoch 178/200\n",
            "6911/6911 - 8s - loss: 0.3856 - accuracy: 0.8328 - val_loss: 0.3696 - val_accuracy: 0.8472\n",
            "Epoch 179/200\n",
            "6911/6911 - 8s - loss: 0.3854 - accuracy: 0.8327 - val_loss: 0.3687 - val_accuracy: 0.8464\n",
            "Epoch 180/200\n",
            "6911/6911 - 8s - loss: 0.3863 - accuracy: 0.8330 - val_loss: 0.3700 - val_accuracy: 0.8469\n",
            "Epoch 181/200\n",
            "6911/6911 - 8s - loss: 0.3859 - accuracy: 0.8334 - val_loss: 0.3700 - val_accuracy: 0.8466\n",
            "Epoch 182/200\n",
            "6911/6911 - 8s - loss: 0.3860 - accuracy: 0.8334 - val_loss: 0.3681 - val_accuracy: 0.8472\n",
            "Epoch 183/200\n",
            "6911/6911 - 8s - loss: 0.3858 - accuracy: 0.8340 - val_loss: 0.3713 - val_accuracy: 0.8471\n",
            "Epoch 184/200\n",
            "6911/6911 - 8s - loss: 0.3862 - accuracy: 0.8336 - val_loss: 0.3693 - val_accuracy: 0.8476\n",
            "Epoch 185/200\n",
            "6911/6911 - 8s - loss: 0.3859 - accuracy: 0.8328 - val_loss: 0.3701 - val_accuracy: 0.8471\n",
            "Epoch 186/200\n",
            "6911/6911 - 8s - loss: 0.3863 - accuracy: 0.8328 - val_loss: 0.3706 - val_accuracy: 0.8466\n",
            "Epoch 187/200\n",
            "6911/6911 - 8s - loss: 0.3852 - accuracy: 0.8335 - val_loss: 0.3693 - val_accuracy: 0.8474\n",
            "Epoch 188/200\n",
            "6911/6911 - 8s - loss: 0.3853 - accuracy: 0.8338 - val_loss: 0.3689 - val_accuracy: 0.8470\n",
            "Epoch 189/200\n",
            "6911/6911 - 8s - loss: 0.3862 - accuracy: 0.8336 - val_loss: 0.3704 - val_accuracy: 0.8472\n",
            "Epoch 190/200\n",
            "6911/6911 - 8s - loss: 0.3863 - accuracy: 0.8331 - val_loss: 0.3707 - val_accuracy: 0.8471\n",
            "Epoch 191/200\n",
            "6911/6911 - 8s - loss: 0.3852 - accuracy: 0.8336 - val_loss: 0.3678 - val_accuracy: 0.8469\n",
            "Epoch 192/200\n",
            "6911/6911 - 8s - loss: 0.3859 - accuracy: 0.8330 - val_loss: 0.3690 - val_accuracy: 0.8469\n",
            "Epoch 193/200\n",
            "6911/6911 - 8s - loss: 0.3855 - accuracy: 0.8336 - val_loss: 0.3698 - val_accuracy: 0.8480\n",
            "Epoch 194/200\n",
            "6911/6911 - 8s - loss: 0.3857 - accuracy: 0.8335 - val_loss: 0.3705 - val_accuracy: 0.8475\n",
            "Epoch 195/200\n",
            "6911/6911 - 8s - loss: 0.3862 - accuracy: 0.8334 - val_loss: 0.3697 - val_accuracy: 0.8479\n",
            "Epoch 196/200\n",
            "6911/6911 - 8s - loss: 0.3857 - accuracy: 0.8336 - val_loss: 0.3705 - val_accuracy: 0.8472\n",
            "Epoch 197/200\n",
            "6911/6911 - 8s - loss: 0.3857 - accuracy: 0.8341 - val_loss: 0.3692 - val_accuracy: 0.8475\n",
            "Epoch 198/200\n",
            "6911/6911 - 8s - loss: 0.3855 - accuracy: 0.8338 - val_loss: 0.3675 - val_accuracy: 0.8473\n",
            "Epoch 199/200\n",
            "6911/6911 - 8s - loss: 0.3852 - accuracy: 0.8337 - val_loss: 0.3711 - val_accuracy: 0.8472\n",
            "Epoch 200/200\n",
            "6911/6911 - 8s - loss: 0.3856 - accuracy: 0.8330 - val_loss: 0.3719 - val_accuracy: 0.8476\n"
          ],
          "name": "stdout"
        }
      ]
    },
    {
      "cell_type": "markdown",
      "metadata": {
        "id": "KhdvCK_xOO3E"
      },
      "source": [
        "predicting on Testing Sets"
      ]
    },
    {
      "cell_type": "code",
      "metadata": {
        "colab": {
          "base_uri": "https://localhost:8080/",
          "height": 224
        },
        "id": "4FacDPjCF5kB",
        "outputId": "1c20e7cb-d1d6-4e00-d915-c048d8b0c83f"
      },
      "source": [
        "test.head()"
      ],
      "execution_count": 68,
      "outputs": [
        {
          "output_type": "execute_result",
          "data": {
            "text/html": [
              "<div>\n",
              "<style scoped>\n",
              "    .dataframe tbody tr th:only-of-type {\n",
              "        vertical-align: middle;\n",
              "    }\n",
              "\n",
              "    .dataframe tbody tr th {\n",
              "        vertical-align: top;\n",
              "    }\n",
              "\n",
              "    .dataframe thead th {\n",
              "        text-align: right;\n",
              "    }\n",
              "</style>\n",
              "<table border=\"1\" class=\"dataframe\">\n",
              "  <thead>\n",
              "    <tr style=\"text-align: right;\">\n",
              "      <th></th>\n",
              "      <th>ID</th>\n",
              "      <th>Gender</th>\n",
              "      <th>Age</th>\n",
              "      <th>Region_Code</th>\n",
              "      <th>Occupation</th>\n",
              "      <th>Channel_Code</th>\n",
              "      <th>Vintage</th>\n",
              "      <th>Credit_Product</th>\n",
              "      <th>Avg_Account_Balance</th>\n",
              "      <th>Is_Active</th>\n",
              "    </tr>\n",
              "  </thead>\n",
              "  <tbody>\n",
              "    <tr>\n",
              "      <th>0</th>\n",
              "      <td>VBENBARO</td>\n",
              "      <td>Male</td>\n",
              "      <td>29</td>\n",
              "      <td>RG254</td>\n",
              "      <td>Other</td>\n",
              "      <td>X1</td>\n",
              "      <td>25</td>\n",
              "      <td>Yes</td>\n",
              "      <td>742366</td>\n",
              "      <td>No</td>\n",
              "    </tr>\n",
              "    <tr>\n",
              "      <th>1</th>\n",
              "      <td>CCMEWNKY</td>\n",
              "      <td>Male</td>\n",
              "      <td>43</td>\n",
              "      <td>RG268</td>\n",
              "      <td>Other</td>\n",
              "      <td>X2</td>\n",
              "      <td>49</td>\n",
              "      <td>NaN</td>\n",
              "      <td>925537</td>\n",
              "      <td>No</td>\n",
              "    </tr>\n",
              "    <tr>\n",
              "      <th>2</th>\n",
              "      <td>VK3KGA9M</td>\n",
              "      <td>Male</td>\n",
              "      <td>31</td>\n",
              "      <td>RG270</td>\n",
              "      <td>Salaried</td>\n",
              "      <td>X1</td>\n",
              "      <td>14</td>\n",
              "      <td>No</td>\n",
              "      <td>215949</td>\n",
              "      <td>No</td>\n",
              "    </tr>\n",
              "    <tr>\n",
              "      <th>3</th>\n",
              "      <td>TT8RPZVC</td>\n",
              "      <td>Male</td>\n",
              "      <td>29</td>\n",
              "      <td>RG272</td>\n",
              "      <td>Other</td>\n",
              "      <td>X1</td>\n",
              "      <td>33</td>\n",
              "      <td>No</td>\n",
              "      <td>868070</td>\n",
              "      <td>No</td>\n",
              "    </tr>\n",
              "    <tr>\n",
              "      <th>4</th>\n",
              "      <td>SHQZEYTZ</td>\n",
              "      <td>Female</td>\n",
              "      <td>29</td>\n",
              "      <td>RG270</td>\n",
              "      <td>Other</td>\n",
              "      <td>X1</td>\n",
              "      <td>19</td>\n",
              "      <td>No</td>\n",
              "      <td>657087</td>\n",
              "      <td>No</td>\n",
              "    </tr>\n",
              "  </tbody>\n",
              "</table>\n",
              "</div>"
            ],
            "text/plain": [
              "         ID  Gender  Age  ... Credit_Product Avg_Account_Balance Is_Active\n",
              "0  VBENBARO    Male   29  ...            Yes              742366        No\n",
              "1  CCMEWNKY    Male   43  ...            NaN              925537        No\n",
              "2  VK3KGA9M    Male   31  ...             No              215949        No\n",
              "3  TT8RPZVC    Male   29  ...             No              868070        No\n",
              "4  SHQZEYTZ  Female   29  ...             No              657087        No\n",
              "\n",
              "[5 rows x 10 columns]"
            ]
          },
          "metadata": {
            "tags": []
          },
          "execution_count": 68
        }
      ]
    },
    {
      "cell_type": "code",
      "metadata": {
        "colab": {
          "base_uri": "https://localhost:8080/"
        },
        "id": "K5QYiGreF5nX",
        "outputId": "68529f8e-b28e-4c86-c1c9-d3a2700c4e63"
      },
      "source": [
        "test.isnull().sum()"
      ],
      "execution_count": 69,
      "outputs": [
        {
          "output_type": "execute_result",
          "data": {
            "text/plain": [
              "ID                         0\n",
              "Gender                     0\n",
              "Age                        0\n",
              "Region_Code                0\n",
              "Occupation                 0\n",
              "Channel_Code               0\n",
              "Vintage                    0\n",
              "Credit_Product         12522\n",
              "Avg_Account_Balance        0\n",
              "Is_Active                  0\n",
              "dtype: int64"
            ]
          },
          "metadata": {
            "tags": []
          },
          "execution_count": 69
        }
      ]
    },
    {
      "cell_type": "code",
      "metadata": {
        "id": "Y5EboasySNkE"
      },
      "source": [
        "test['Credit_Product']=test['Credit_Product'].map({'No':0,'Yes':1})"
      ],
      "execution_count": 70,
      "outputs": []
    },
    {
      "cell_type": "code",
      "metadata": {
        "colab": {
          "base_uri": "https://localhost:8080/"
        },
        "id": "W_nCzf8XSNnG",
        "outputId": "58ed8721-d4b5-46d9-a103-50b84c2a5f6d"
      },
      "source": [
        "test['Credit_Product']=test['Credit_Product'].fillna(0.5)\n",
        "\n",
        "test['Credit_Product'].value_counts()"
      ],
      "execution_count": 71,
      "outputs": [
        {
          "output_type": "execute_result",
          "data": {
            "text/plain": [
              "0.0    61608\n",
              "1.0    31182\n",
              "0.5    12522\n",
              "Name: Credit_Product, dtype: int64"
            ]
          },
          "metadata": {
            "tags": []
          },
          "execution_count": 71
        }
      ]
    },
    {
      "cell_type": "code",
      "metadata": {
        "id": "P2jATNJoSNpb"
      },
      "source": [
        "test['Gender']=le.fit_transform(test['Gender'])\n",
        "test['Occupation']=le.fit_transform(test['Occupation'])\n",
        "test['Is_Active']=le.fit_transform(test['Is_Active'])\n",
        "test['Channel_Code']=le.fit_transform(test['Channel_Code'])"
      ],
      "execution_count": 72,
      "outputs": []
    },
    {
      "cell_type": "code",
      "metadata": {
        "colab": {
          "base_uri": "https://localhost:8080/",
          "height": 204
        },
        "id": "yMoVQiO-SNrs",
        "outputId": "0274f579-3843-4757-e176-2a3b21795fe4"
      },
      "source": [
        "\n",
        "test=test.drop(labels=['ID','Region_Code'],axis=1)\n",
        "\n",
        "test.head()"
      ],
      "execution_count": 73,
      "outputs": [
        {
          "output_type": "execute_result",
          "data": {
            "text/html": [
              "<div>\n",
              "<style scoped>\n",
              "    .dataframe tbody tr th:only-of-type {\n",
              "        vertical-align: middle;\n",
              "    }\n",
              "\n",
              "    .dataframe tbody tr th {\n",
              "        vertical-align: top;\n",
              "    }\n",
              "\n",
              "    .dataframe thead th {\n",
              "        text-align: right;\n",
              "    }\n",
              "</style>\n",
              "<table border=\"1\" class=\"dataframe\">\n",
              "  <thead>\n",
              "    <tr style=\"text-align: right;\">\n",
              "      <th></th>\n",
              "      <th>Gender</th>\n",
              "      <th>Age</th>\n",
              "      <th>Occupation</th>\n",
              "      <th>Channel_Code</th>\n",
              "      <th>Vintage</th>\n",
              "      <th>Credit_Product</th>\n",
              "      <th>Avg_Account_Balance</th>\n",
              "      <th>Is_Active</th>\n",
              "    </tr>\n",
              "  </thead>\n",
              "  <tbody>\n",
              "    <tr>\n",
              "      <th>0</th>\n",
              "      <td>1</td>\n",
              "      <td>29</td>\n",
              "      <td>1</td>\n",
              "      <td>0</td>\n",
              "      <td>25</td>\n",
              "      <td>1.0</td>\n",
              "      <td>742366</td>\n",
              "      <td>0</td>\n",
              "    </tr>\n",
              "    <tr>\n",
              "      <th>1</th>\n",
              "      <td>1</td>\n",
              "      <td>43</td>\n",
              "      <td>1</td>\n",
              "      <td>1</td>\n",
              "      <td>49</td>\n",
              "      <td>0.5</td>\n",
              "      <td>925537</td>\n",
              "      <td>0</td>\n",
              "    </tr>\n",
              "    <tr>\n",
              "      <th>2</th>\n",
              "      <td>1</td>\n",
              "      <td>31</td>\n",
              "      <td>2</td>\n",
              "      <td>0</td>\n",
              "      <td>14</td>\n",
              "      <td>0.0</td>\n",
              "      <td>215949</td>\n",
              "      <td>0</td>\n",
              "    </tr>\n",
              "    <tr>\n",
              "      <th>3</th>\n",
              "      <td>1</td>\n",
              "      <td>29</td>\n",
              "      <td>1</td>\n",
              "      <td>0</td>\n",
              "      <td>33</td>\n",
              "      <td>0.0</td>\n",
              "      <td>868070</td>\n",
              "      <td>0</td>\n",
              "    </tr>\n",
              "    <tr>\n",
              "      <th>4</th>\n",
              "      <td>0</td>\n",
              "      <td>29</td>\n",
              "      <td>1</td>\n",
              "      <td>0</td>\n",
              "      <td>19</td>\n",
              "      <td>0.0</td>\n",
              "      <td>657087</td>\n",
              "      <td>0</td>\n",
              "    </tr>\n",
              "  </tbody>\n",
              "</table>\n",
              "</div>"
            ],
            "text/plain": [
              "   Gender  Age  Occupation  ...  Credit_Product  Avg_Account_Balance  Is_Active\n",
              "0       1   29           1  ...             1.0               742366          0\n",
              "1       1   43           1  ...             0.5               925537          0\n",
              "2       1   31           2  ...             0.0               215949          0\n",
              "3       1   29           1  ...             0.0               868070          0\n",
              "4       0   29           1  ...             0.0               657087          0\n",
              "\n",
              "[5 rows x 8 columns]"
            ]
          },
          "metadata": {
            "tags": []
          },
          "execution_count": 73
        }
      ]
    },
    {
      "cell_type": "code",
      "metadata": {
        "id": "Fn34Gti-SWcF"
      },
      "source": [
        "sc=StandardScaler()\n",
        "test=sc.fit_transform(test)"
      ],
      "execution_count": 74,
      "outputs": []
    },
    {
      "cell_type": "code",
      "metadata": {
        "colab": {
          "base_uri": "https://localhost:8080/"
        },
        "id": "sQMriPA_SWf2",
        "outputId": "c927f01b-6fce-4915-aba6-f526b05519da"
      },
      "source": [
        "print(test.shape)"
      ],
      "execution_count": 75,
      "outputs": [
        {
          "output_type": "stream",
          "text": [
            "(105312, 8)\n"
          ],
          "name": "stdout"
        }
      ]
    },
    {
      "cell_type": "code",
      "metadata": {
        "id": "aPpemI-MSWix"
      },
      "source": [
        "y_pred_test=(model.predict(test) > 0.5).astype(\"int32\")"
      ],
      "execution_count": 84,
      "outputs": []
    },
    {
      "cell_type": "code",
      "metadata": {
        "colab": {
          "base_uri": "https://localhost:8080/"
        },
        "id": "nNTIGJPsSWlu",
        "outputId": "d321d24e-3760-4944-9ea6-38e666172695"
      },
      "source": [
        "#y_pred_test=np.argmax(y_pred_test,axis=-1)\n",
        "y_pred_test[1:15]"
      ],
      "execution_count": 85,
      "outputs": [
        {
          "output_type": "execute_result",
          "data": {
            "text/plain": [
              "array([[1],\n",
              "       [0],\n",
              "       [0],\n",
              "       [0],\n",
              "       [0],\n",
              "       [0],\n",
              "       [0],\n",
              "       [1],\n",
              "       [0],\n",
              "       [0],\n",
              "       [0],\n",
              "       [1],\n",
              "       [0],\n",
              "       [0]], dtype=int32)"
            ]
          },
          "metadata": {
            "tags": []
          },
          "execution_count": 85
        }
      ]
    },
    {
      "cell_type": "code",
      "metadata": {
        "id": "XM4YQSC1S5aT"
      },
      "source": [
        "test_final=pd.read_csv('test.csv')\n",
        "submission=pd.DataFrame()\n",
        "submission['ID']=test_final['ID']\n",
        "submission['Is_Lead']=y_pred_test"
      ],
      "execution_count": 86,
      "outputs": []
    },
    {
      "cell_type": "code",
      "metadata": {
        "colab": {
          "base_uri": "https://localhost:8080/",
          "height": 204
        },
        "id": "psz02bJvS5iQ",
        "outputId": "e74fd690-09e6-435c-b816-6d92fe632619"
      },
      "source": [
        "submission.head()"
      ],
      "execution_count": 87,
      "outputs": [
        {
          "output_type": "execute_result",
          "data": {
            "text/html": [
              "<div>\n",
              "<style scoped>\n",
              "    .dataframe tbody tr th:only-of-type {\n",
              "        vertical-align: middle;\n",
              "    }\n",
              "\n",
              "    .dataframe tbody tr th {\n",
              "        vertical-align: top;\n",
              "    }\n",
              "\n",
              "    .dataframe thead th {\n",
              "        text-align: right;\n",
              "    }\n",
              "</style>\n",
              "<table border=\"1\" class=\"dataframe\">\n",
              "  <thead>\n",
              "    <tr style=\"text-align: right;\">\n",
              "      <th></th>\n",
              "      <th>ID</th>\n",
              "      <th>Is_Lead</th>\n",
              "    </tr>\n",
              "  </thead>\n",
              "  <tbody>\n",
              "    <tr>\n",
              "      <th>0</th>\n",
              "      <td>VBENBARO</td>\n",
              "      <td>0</td>\n",
              "    </tr>\n",
              "    <tr>\n",
              "      <th>1</th>\n",
              "      <td>CCMEWNKY</td>\n",
              "      <td>1</td>\n",
              "    </tr>\n",
              "    <tr>\n",
              "      <th>2</th>\n",
              "      <td>VK3KGA9M</td>\n",
              "      <td>0</td>\n",
              "    </tr>\n",
              "    <tr>\n",
              "      <th>3</th>\n",
              "      <td>TT8RPZVC</td>\n",
              "      <td>0</td>\n",
              "    </tr>\n",
              "    <tr>\n",
              "      <th>4</th>\n",
              "      <td>SHQZEYTZ</td>\n",
              "      <td>0</td>\n",
              "    </tr>\n",
              "  </tbody>\n",
              "</table>\n",
              "</div>"
            ],
            "text/plain": [
              "         ID  Is_Lead\n",
              "0  VBENBARO        0\n",
              "1  CCMEWNKY        1\n",
              "2  VK3KGA9M        0\n",
              "3  TT8RPZVC        0\n",
              "4  SHQZEYTZ        0"
            ]
          },
          "metadata": {
            "tags": []
          },
          "execution_count": 87
        }
      ]
    },
    {
      "cell_type": "code",
      "metadata": {
        "id": "FO6z0OdWS5kn"
      },
      "source": [
        "submission.to_csv('FinalSubmission.csv',index=False)"
      ],
      "execution_count": 88,
      "outputs": []
    }
  ]
}